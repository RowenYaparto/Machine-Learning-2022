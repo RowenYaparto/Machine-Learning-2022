{
  "cells": [
    {
      "cell_type": "markdown",
      "metadata": {
        "id": "view-in-github",
        "colab_type": "text"
      },
      "source": [
        "<a href=\"https://colab.research.google.com/github/RowenYaparto/Machine-Learning-2022/blob/main/Prediksi_Penyakit_Lardiovaskular_menggunakan_KNN_dan_Logistic_Regression.ipynb\" target=\"_parent\"><img src=\"https://colab.research.google.com/assets/colab-badge.svg\" alt=\"Open In Colab\"/></a>"
      ]
    },
    {
      "cell_type": "markdown",
      "source": [
        "Nama : Brad Rowen Yaparto\n",
        "Nim : H071201078"
      ],
      "metadata": {
        "id": "dsvAdFKYGZqM"
      },
      "id": "dsvAdFKYGZqM"
    },
    {
      "cell_type": "markdown",
      "id": "d347d272",
      "metadata": {
        "papermill": {
          "duration": 0.042653,
          "end_time": "2022-11-15T02:12:01.351231",
          "exception": false,
          "start_time": "2022-11-15T02:12:01.308578",
          "status": "completed"
        },
        "tags": [],
        "id": "d347d272"
      },
      "source": [
        "#**Supervised Learning**"
      ]
    },
    {
      "cell_type": "code",
      "execution_count": 2,
      "id": "f7101b97",
      "metadata": {
        "execution": {
          "iopub.execute_input": "2022-11-15T02:12:01.454112Z",
          "iopub.status.busy": "2022-11-15T02:12:01.453252Z",
          "iopub.status.idle": "2022-11-15T02:12:14.957971Z",
          "shell.execute_reply": "2022-11-15T02:12:14.958672Z",
          "shell.execute_reply.started": "2021-11-01T11:33:16.539336Z"
        },
        "papermill": {
          "duration": 13.564139,
          "end_time": "2022-11-15T02:12:14.958949",
          "exception": false,
          "start_time": "2022-11-15T02:12:01.394810",
          "status": "completed"
        },
        "tags": [],
        "colab": {
          "base_uri": "https://localhost:8080/"
        },
        "id": "f7101b97",
        "outputId": "01e4f73d-3829-4b2e-a9fb-e82e0ea3dc3f"
      },
      "outputs": [
        {
          "output_type": "stream",
          "name": "stdout",
          "text": [
            "Looking in indexes: https://pypi.org/simple, https://us-python.pkg.dev/colab-wheels/public/simple/\n",
            "Requirement already satisfied: seaborn in /usr/local/lib/python3.8/dist-packages (0.12.1)\n",
            "Requirement already satisfied: pandas>=0.25 in /usr/local/lib/python3.8/dist-packages (from seaborn) (1.3.5)\n",
            "Requirement already satisfied: numpy>=1.17 in /usr/local/lib/python3.8/dist-packages (from seaborn) (1.21.6)\n",
            "Requirement already satisfied: matplotlib!=3.6.1,>=3.1 in /usr/local/lib/python3.8/dist-packages (from seaborn) (3.2.2)\n",
            "Requirement already satisfied: python-dateutil>=2.1 in /usr/local/lib/python3.8/dist-packages (from matplotlib!=3.6.1,>=3.1->seaborn) (2.8.2)\n",
            "Requirement already satisfied: cycler>=0.10 in /usr/local/lib/python3.8/dist-packages (from matplotlib!=3.6.1,>=3.1->seaborn) (0.11.0)\n",
            "Requirement already satisfied: kiwisolver>=1.0.1 in /usr/local/lib/python3.8/dist-packages (from matplotlib!=3.6.1,>=3.1->seaborn) (1.4.4)\n",
            "Requirement already satisfied: pyparsing!=2.0.4,!=2.1.2,!=2.1.6,>=2.0.1 in /usr/local/lib/python3.8/dist-packages (from matplotlib!=3.6.1,>=3.1->seaborn) (3.0.9)\n",
            "Requirement already satisfied: pytz>=2017.3 in /usr/local/lib/python3.8/dist-packages (from pandas>=0.25->seaborn) (2022.6)\n",
            "Requirement already satisfied: six>=1.5 in /usr/local/lib/python3.8/dist-packages (from python-dateutil>=2.1->matplotlib!=3.6.1,>=3.1->seaborn) (1.15.0)\n"
          ]
        }
      ],
      "source": [
        "!pip install seaborn --upgrade\n",
        "import pandas as pd # data manipulation\n",
        "import numpy as np # linear algebra\n",
        "\n",
        "# data visualization\n",
        "import matplotlib.pyplot as plt\n",
        "%matplotlib inline\n",
        "import seaborn as sns\n",
        "from statsmodels.graphics.gofplots import qqplot # normality check\n",
        "import plotly.express as px\n",
        "from sklearn.tree import plot_tree # decision tree \n",
        "\n",
        "# data preprocessing\n",
        "from imblearn.over_sampling import SMOTE # deal with imbalance data\n",
        "from sklearn.preprocessing import MinMaxScaler, PowerTransformer # scale data\n",
        "\n",
        "# classifiers\n",
        "from sklearn.neighbors import KNeighborsClassifier\n",
        "from sklearn.linear_model import LogisticRegression # linear classification\n",
        "\n",
        "\n",
        "# model evaluation and selection\n",
        "from sklearn.model_selection import train_test_split, cross_val_score, cross_val_predict\n",
        "from sklearn.model_selection import RandomizedSearchCV, GridSearchCV\n",
        "from sklearn.metrics import classification_report, plot_roc_curve\n",
        "from sklearn.metrics import confusion_matrix, precision_score, recall_score, f1_score\n",
        "from sklearn.metrics import roc_curve, accuracy_score, roc_auc_score"
      ]
    },
    {
      "cell_type": "markdown",
      "id": "ee7a57b1",
      "metadata": {
        "papermill": {
          "duration": 0.045883,
          "end_time": "2022-11-15T02:12:15.051855",
          "exception": false,
          "start_time": "2022-11-15T02:12:15.005972",
          "status": "completed"
        },
        "tags": [],
        "id": "ee7a57b1"
      },
      "source": [
        " ## Dataset dan Deskripsi Fitur "
      ]
    },
    {
      "cell_type": "code",
      "execution_count": 3,
      "id": "6620932b",
      "metadata": {
        "execution": {
          "iopub.execute_input": "2022-11-15T02:12:15.203157Z",
          "iopub.status.busy": "2022-11-15T02:12:15.202440Z",
          "iopub.status.idle": "2022-11-15T02:12:15.234098Z",
          "shell.execute_reply": "2022-11-15T02:12:15.234625Z",
          "shell.execute_reply.started": "2021-11-01T11:33:24.115862Z"
        },
        "papermill": {
          "duration": 0.082717,
          "end_time": "2022-11-15T02:12:15.234787",
          "exception": false,
          "start_time": "2022-11-15T02:12:15.152070",
          "status": "completed"
        },
        "tags": [],
        "colab": {
          "base_uri": "https://localhost:8080/",
          "height": 270
        },
        "id": "6620932b",
        "outputId": "63fe43a5-c5f6-46ae-c5c1-a13dabb7041b"
      },
      "outputs": [
        {
          "output_type": "execute_result",
          "data": {
            "text/plain": [
              "    age  anaemia  creatinine_phosphokinase  diabetes  ejection_fraction  \\\n",
              "0  75.0        0                       582         0                 20   \n",
              "1  55.0        0                      7861         0                 38   \n",
              "2  65.0        0                       146         0                 20   \n",
              "3  50.0        1                       111         0                 20   \n",
              "4  65.0        1                       160         1                 20   \n",
              "\n",
              "   high_blood_pressure  platelets  serum_creatinine  serum_sodium  sex  \\\n",
              "0                    1  265000.00               1.9           130    1   \n",
              "1                    0  263358.03               1.1           136    1   \n",
              "2                    0  162000.00               1.3           129    1   \n",
              "3                    0  210000.00               1.9           137    1   \n",
              "4                    0  327000.00               2.7           116    0   \n",
              "\n",
              "   smoking  time  DEATH_EVENT  \n",
              "0        0     4            1  \n",
              "1        0     6            1  \n",
              "2        1     7            1  \n",
              "3        0     7            1  \n",
              "4        0     8            1  "
            ],
            "text/html": [
              "\n",
              "  <div id=\"df-5eb10cd0-5864-47f5-a896-65860fca0d0c\">\n",
              "    <div class=\"colab-df-container\">\n",
              "      <div>\n",
              "<style scoped>\n",
              "    .dataframe tbody tr th:only-of-type {\n",
              "        vertical-align: middle;\n",
              "    }\n",
              "\n",
              "    .dataframe tbody tr th {\n",
              "        vertical-align: top;\n",
              "    }\n",
              "\n",
              "    .dataframe thead th {\n",
              "        text-align: right;\n",
              "    }\n",
              "</style>\n",
              "<table border=\"1\" class=\"dataframe\">\n",
              "  <thead>\n",
              "    <tr style=\"text-align: right;\">\n",
              "      <th></th>\n",
              "      <th>age</th>\n",
              "      <th>anaemia</th>\n",
              "      <th>creatinine_phosphokinase</th>\n",
              "      <th>diabetes</th>\n",
              "      <th>ejection_fraction</th>\n",
              "      <th>high_blood_pressure</th>\n",
              "      <th>platelets</th>\n",
              "      <th>serum_creatinine</th>\n",
              "      <th>serum_sodium</th>\n",
              "      <th>sex</th>\n",
              "      <th>smoking</th>\n",
              "      <th>time</th>\n",
              "      <th>DEATH_EVENT</th>\n",
              "    </tr>\n",
              "  </thead>\n",
              "  <tbody>\n",
              "    <tr>\n",
              "      <th>0</th>\n",
              "      <td>75.0</td>\n",
              "      <td>0</td>\n",
              "      <td>582</td>\n",
              "      <td>0</td>\n",
              "      <td>20</td>\n",
              "      <td>1</td>\n",
              "      <td>265000.00</td>\n",
              "      <td>1.9</td>\n",
              "      <td>130</td>\n",
              "      <td>1</td>\n",
              "      <td>0</td>\n",
              "      <td>4</td>\n",
              "      <td>1</td>\n",
              "    </tr>\n",
              "    <tr>\n",
              "      <th>1</th>\n",
              "      <td>55.0</td>\n",
              "      <td>0</td>\n",
              "      <td>7861</td>\n",
              "      <td>0</td>\n",
              "      <td>38</td>\n",
              "      <td>0</td>\n",
              "      <td>263358.03</td>\n",
              "      <td>1.1</td>\n",
              "      <td>136</td>\n",
              "      <td>1</td>\n",
              "      <td>0</td>\n",
              "      <td>6</td>\n",
              "      <td>1</td>\n",
              "    </tr>\n",
              "    <tr>\n",
              "      <th>2</th>\n",
              "      <td>65.0</td>\n",
              "      <td>0</td>\n",
              "      <td>146</td>\n",
              "      <td>0</td>\n",
              "      <td>20</td>\n",
              "      <td>0</td>\n",
              "      <td>162000.00</td>\n",
              "      <td>1.3</td>\n",
              "      <td>129</td>\n",
              "      <td>1</td>\n",
              "      <td>1</td>\n",
              "      <td>7</td>\n",
              "      <td>1</td>\n",
              "    </tr>\n",
              "    <tr>\n",
              "      <th>3</th>\n",
              "      <td>50.0</td>\n",
              "      <td>1</td>\n",
              "      <td>111</td>\n",
              "      <td>0</td>\n",
              "      <td>20</td>\n",
              "      <td>0</td>\n",
              "      <td>210000.00</td>\n",
              "      <td>1.9</td>\n",
              "      <td>137</td>\n",
              "      <td>1</td>\n",
              "      <td>0</td>\n",
              "      <td>7</td>\n",
              "      <td>1</td>\n",
              "    </tr>\n",
              "    <tr>\n",
              "      <th>4</th>\n",
              "      <td>65.0</td>\n",
              "      <td>1</td>\n",
              "      <td>160</td>\n",
              "      <td>1</td>\n",
              "      <td>20</td>\n",
              "      <td>0</td>\n",
              "      <td>327000.00</td>\n",
              "      <td>2.7</td>\n",
              "      <td>116</td>\n",
              "      <td>0</td>\n",
              "      <td>0</td>\n",
              "      <td>8</td>\n",
              "      <td>1</td>\n",
              "    </tr>\n",
              "  </tbody>\n",
              "</table>\n",
              "</div>\n",
              "      <button class=\"colab-df-convert\" onclick=\"convertToInteractive('df-5eb10cd0-5864-47f5-a896-65860fca0d0c')\"\n",
              "              title=\"Convert this dataframe to an interactive table.\"\n",
              "              style=\"display:none;\">\n",
              "        \n",
              "  <svg xmlns=\"http://www.w3.org/2000/svg\" height=\"24px\"viewBox=\"0 0 24 24\"\n",
              "       width=\"24px\">\n",
              "    <path d=\"M0 0h24v24H0V0z\" fill=\"none\"/>\n",
              "    <path d=\"M18.56 5.44l.94 2.06.94-2.06 2.06-.94-2.06-.94-.94-2.06-.94 2.06-2.06.94zm-11 1L8.5 8.5l.94-2.06 2.06-.94-2.06-.94L8.5 2.5l-.94 2.06-2.06.94zm10 10l.94 2.06.94-2.06 2.06-.94-2.06-.94-.94-2.06-.94 2.06-2.06.94z\"/><path d=\"M17.41 7.96l-1.37-1.37c-.4-.4-.92-.59-1.43-.59-.52 0-1.04.2-1.43.59L10.3 9.45l-7.72 7.72c-.78.78-.78 2.05 0 2.83L4 21.41c.39.39.9.59 1.41.59.51 0 1.02-.2 1.41-.59l7.78-7.78 2.81-2.81c.8-.78.8-2.07 0-2.86zM5.41 20L4 18.59l7.72-7.72 1.47 1.35L5.41 20z\"/>\n",
              "  </svg>\n",
              "      </button>\n",
              "      \n",
              "  <style>\n",
              "    .colab-df-container {\n",
              "      display:flex;\n",
              "      flex-wrap:wrap;\n",
              "      gap: 12px;\n",
              "    }\n",
              "\n",
              "    .colab-df-convert {\n",
              "      background-color: #E8F0FE;\n",
              "      border: none;\n",
              "      border-radius: 50%;\n",
              "      cursor: pointer;\n",
              "      display: none;\n",
              "      fill: #1967D2;\n",
              "      height: 32px;\n",
              "      padding: 0 0 0 0;\n",
              "      width: 32px;\n",
              "    }\n",
              "\n",
              "    .colab-df-convert:hover {\n",
              "      background-color: #E2EBFA;\n",
              "      box-shadow: 0px 1px 2px rgba(60, 64, 67, 0.3), 0px 1px 3px 1px rgba(60, 64, 67, 0.15);\n",
              "      fill: #174EA6;\n",
              "    }\n",
              "\n",
              "    [theme=dark] .colab-df-convert {\n",
              "      background-color: #3B4455;\n",
              "      fill: #D2E3FC;\n",
              "    }\n",
              "\n",
              "    [theme=dark] .colab-df-convert:hover {\n",
              "      background-color: #434B5C;\n",
              "      box-shadow: 0px 1px 3px 1px rgba(0, 0, 0, 0.15);\n",
              "      filter: drop-shadow(0px 1px 2px rgba(0, 0, 0, 0.3));\n",
              "      fill: #FFFFFF;\n",
              "    }\n",
              "  </style>\n",
              "\n",
              "      <script>\n",
              "        const buttonEl =\n",
              "          document.querySelector('#df-5eb10cd0-5864-47f5-a896-65860fca0d0c button.colab-df-convert');\n",
              "        buttonEl.style.display =\n",
              "          google.colab.kernel.accessAllowed ? 'block' : 'none';\n",
              "\n",
              "        async function convertToInteractive(key) {\n",
              "          const element = document.querySelector('#df-5eb10cd0-5864-47f5-a896-65860fca0d0c');\n",
              "          const dataTable =\n",
              "            await google.colab.kernel.invokeFunction('convertToInteractive',\n",
              "                                                     [key], {});\n",
              "          if (!dataTable) return;\n",
              "\n",
              "          const docLinkHtml = 'Like what you see? Visit the ' +\n",
              "            '<a target=\"_blank\" href=https://colab.research.google.com/notebooks/data_table.ipynb>data table notebook</a>'\n",
              "            + ' to learn more about interactive tables.';\n",
              "          element.innerHTML = '';\n",
              "          dataTable['output_type'] = 'display_data';\n",
              "          await google.colab.output.renderOutput(dataTable, element);\n",
              "          const docLink = document.createElement('div');\n",
              "          docLink.innerHTML = docLinkHtml;\n",
              "          element.appendChild(docLink);\n",
              "        }\n",
              "      </script>\n",
              "    </div>\n",
              "  </div>\n",
              "  "
            ]
          },
          "metadata": {},
          "execution_count": 3
        }
      ],
      "source": [
        "df = pd.read_csv('/content/heart_failure_clinical_records_dataset (1).csv')\n",
        "df.head()"
      ]
    },
    {
      "cell_type": "code",
      "execution_count": 4,
      "id": "0021b758",
      "metadata": {
        "execution": {
          "iopub.execute_input": "2022-11-15T02:12:15.335636Z",
          "iopub.status.busy": "2022-11-15T02:12:15.334934Z",
          "iopub.status.idle": "2022-11-15T02:12:15.337639Z",
          "shell.execute_reply": "2022-11-15T02:12:15.338063Z",
          "shell.execute_reply.started": "2021-11-01T11:33:24.142931Z"
        },
        "papermill": {
          "duration": 0.054788,
          "end_time": "2022-11-15T02:12:15.338203",
          "exception": false,
          "start_time": "2022-11-15T02:12:15.283415",
          "status": "completed"
        },
        "tags": [],
        "colab": {
          "base_uri": "https://localhost:8080/"
        },
        "id": "0021b758",
        "outputId": "e8ab45e6-6425-45f6-efe9-95d8604259a8"
      },
      "outputs": [
        {
          "output_type": "execute_result",
          "data": {
            "text/plain": [
              "(299, 13)"
            ]
          },
          "metadata": {},
          "execution_count": 4
        }
      ],
      "source": [
        "df.shape   # dimensi data"
      ]
    },
    {
      "cell_type": "code",
      "execution_count": 5,
      "id": "bb43d7dd",
      "metadata": {
        "execution": {
          "iopub.execute_input": "2022-11-15T02:12:15.459732Z",
          "iopub.status.busy": "2022-11-15T02:12:15.458836Z",
          "iopub.status.idle": "2022-11-15T02:12:15.464329Z",
          "shell.execute_reply": "2022-11-15T02:12:15.463109Z",
          "shell.execute_reply.started": "2021-11-01T11:33:24.151175Z"
        },
        "papermill": {
          "duration": 0.080473,
          "end_time": "2022-11-15T02:12:15.464601",
          "exception": false,
          "start_time": "2022-11-15T02:12:15.384128",
          "status": "completed"
        },
        "tags": [],
        "colab": {
          "base_uri": "https://localhost:8080/"
        },
        "id": "bb43d7dd",
        "outputId": "4286b578-b7a8-420e-f4f5-b748734399a6"
      },
      "outputs": [
        {
          "output_type": "stream",
          "name": "stdout",
          "text": [
            "<class 'pandas.core.frame.DataFrame'>\n",
            "RangeIndex: 299 entries, 0 to 298\n",
            "Data columns (total 13 columns):\n",
            " #   Column                    Non-Null Count  Dtype  \n",
            "---  ------                    --------------  -----  \n",
            " 0   age                       299 non-null    float64\n",
            " 1   anaemia                   299 non-null    int64  \n",
            " 2   creatinine_phosphokinase  299 non-null    int64  \n",
            " 3   diabetes                  299 non-null    int64  \n",
            " 4   ejection_fraction         299 non-null    int64  \n",
            " 5   high_blood_pressure       299 non-null    int64  \n",
            " 6   platelets                 299 non-null    float64\n",
            " 7   serum_creatinine          299 non-null    float64\n",
            " 8   serum_sodium              299 non-null    int64  \n",
            " 9   sex                       299 non-null    int64  \n",
            " 10  smoking                   299 non-null    int64  \n",
            " 11  time                      299 non-null    int64  \n",
            " 12  DEATH_EVENT               299 non-null    int64  \n",
            "dtypes: float64(3), int64(10)\n",
            "memory usage: 30.5 KB\n"
          ]
        }
      ],
      "source": [
        "df.info()  # info struktur data"
      ]
    },
    {
      "cell_type": "code",
      "execution_count": 6,
      "id": "66d5257a",
      "metadata": {
        "execution": {
          "iopub.execute_input": "2022-11-15T02:12:15.671002Z",
          "iopub.status.busy": "2022-11-15T02:12:15.669592Z",
          "iopub.status.idle": "2022-11-15T02:12:15.672778Z",
          "shell.execute_reply": "2022-11-15T02:12:15.671948Z",
          "shell.execute_reply.started": "2021-11-01T11:33:24.166316Z"
        },
        "papermill": {
          "duration": 0.086785,
          "end_time": "2022-11-15T02:12:15.672939",
          "exception": false,
          "start_time": "2022-11-15T02:12:15.586154",
          "status": "completed"
        },
        "tags": [],
        "id": "66d5257a"
      },
      "outputs": [],
      "source": [
        "df.age = df.age.astype('int64')  # Perbaiki tipe data usia "
      ]
    },
    {
      "cell_type": "code",
      "execution_count": 7,
      "id": "e129d21b",
      "metadata": {
        "execution": {
          "iopub.execute_input": "2022-11-15T02:12:15.850180Z",
          "iopub.status.busy": "2022-11-15T02:12:15.849160Z",
          "iopub.status.idle": "2022-11-15T02:12:15.851506Z",
          "shell.execute_reply": "2022-11-15T02:12:15.850868Z",
          "shell.execute_reply.started": "2021-11-01T11:33:24.176594Z"
        },
        "papermill": {
          "duration": 0.086858,
          "end_time": "2022-11-15T02:12:15.851767",
          "exception": false,
          "start_time": "2022-11-15T02:12:15.764909",
          "status": "completed"
        },
        "tags": [],
        "id": "e129d21b"
      },
      "outputs": [],
      "source": [
        "# mempersiapkan data numerik dan kategori\n",
        "numeric = ['age', 'creatinine_phosphokinase', \n",
        "           'ejection_fraction', 'platelets', \n",
        "           'serum_creatinine', 'time']\n",
        "categorical = ['anaemia', 'diabetes', 'high_blood_pressure', \n",
        "               'sex', 'smoking']"
      ]
    },
    {
      "cell_type": "markdown",
      "id": "802b992d",
      "metadata": {
        "papermill": {
          "duration": 0.055741,
          "end_time": "2022-11-15T02:12:16.136830",
          "exception": false,
          "start_time": "2022-11-15T02:12:16.081089",
          "status": "completed"
        },
        "tags": [],
        "id": "802b992d"
      },
      "source": [
        "## Missing Values\n",
        "\n",
        "- Tidak ada nilai yang hilang "
      ]
    },
    {
      "cell_type": "code",
      "execution_count": 8,
      "id": "4d7d044e",
      "metadata": {
        "execution": {
          "iopub.execute_input": "2022-11-15T02:12:16.240718Z",
          "iopub.status.busy": "2022-11-15T02:12:16.240047Z",
          "iopub.status.idle": "2022-11-15T02:12:16.244267Z",
          "shell.execute_reply": "2022-11-15T02:12:16.244800Z",
          "shell.execute_reply.started": "2021-11-01T11:33:24.186501Z"
        },
        "papermill": {
          "duration": 0.060626,
          "end_time": "2022-11-15T02:12:16.244968",
          "exception": false,
          "start_time": "2022-11-15T02:12:16.184342",
          "status": "completed"
        },
        "tags": [],
        "colab": {
          "base_uri": "https://localhost:8080/"
        },
        "id": "4d7d044e",
        "outputId": "2475d164-9fa7-484f-f8b6-c5974a4772cc"
      },
      "outputs": [
        {
          "output_type": "execute_result",
          "data": {
            "text/plain": [
              "age                         0\n",
              "anaemia                     0\n",
              "creatinine_phosphokinase    0\n",
              "diabetes                    0\n",
              "ejection_fraction           0\n",
              "high_blood_pressure         0\n",
              "platelets                   0\n",
              "serum_creatinine            0\n",
              "serum_sodium                0\n",
              "sex                         0\n",
              "smoking                     0\n",
              "time                        0\n",
              "DEATH_EVENT                 0\n",
              "dtype: int64"
            ]
          },
          "metadata": {},
          "execution_count": 8
        }
      ],
      "source": [
        "df.isnull().sum()"
      ]
    },
    {
      "cell_type": "markdown",
      "id": "5a15e34c",
      "metadata": {
        "papermill": {
          "duration": 0.047719,
          "end_time": "2022-11-15T02:12:16.341232",
          "exception": false,
          "start_time": "2022-11-15T02:12:16.293513",
          "status": "completed"
        },
        "tags": [],
        "id": "5a15e34c"
      },
      "source": [
        "##Check Variabel Targets \n",
        "\n",
        "- Kelas atau label target tidak seimbang "
      ]
    },
    {
      "cell_type": "code",
      "execution_count": 9,
      "id": "1a37c297",
      "metadata": {
        "execution": {
          "iopub.execute_input": "2022-11-15T02:12:16.465747Z",
          "iopub.status.busy": "2022-11-15T02:12:16.465044Z",
          "iopub.status.idle": "2022-11-15T02:12:16.600731Z",
          "shell.execute_reply": "2022-11-15T02:12:16.601414Z",
          "shell.execute_reply.started": "2021-11-01T11:33:24.19714Z"
        },
        "papermill": {
          "duration": 0.21165,
          "end_time": "2022-11-15T02:12:16.601610",
          "exception": false,
          "start_time": "2022-11-15T02:12:16.389960",
          "status": "completed"
        },
        "tags": [],
        "colab": {
          "base_uri": "https://localhost:8080/",
          "height": 341
        },
        "id": "1a37c297",
        "outputId": "a8714f29-2e1d-482a-bf42-5a8ad5d7a5fb"
      },
      "outputs": [
        {
          "output_type": "display_data",
          "data": {
            "text/plain": [
              "<Figure size 432x360 with 1 Axes>"
            ],
            "image/png": "[encoded data removed]"
          },
          "metadata": {}
        }
      ],
      "source": [
        "target_count = df.DEATH_EVENT.value_counts()\n",
        "death_color = ['navy', 'crimson']\n",
        "with plt.style.context('ggplot'):\n",
        "    plt.figure(figsize=(6, 5))\n",
        "    sns.countplot(data=df, x='DEATH_EVENT', palette=death_color)\n",
        "    for name , val in zip(target_count.index, target_count.values):\n",
        "        plt.text(name, val/2, f'{round(val/sum(target_count)*100, 2)}%\\n({val})', ha='center',\n",
        "                color='white', fontdict={'fontsize':13})\n",
        "    plt.xticks(ticks=target_count.index, labels=['No', 'True'])\n",
        "    plt.yticks(np.arange(0, 230, 25))\n",
        "    plt.show()"
      ]
    },
    {
      "cell_type": "markdown",
      "id": "108c84fe",
      "metadata": {
        "papermill": {
          "duration": 0.04992,
          "end_time": "2022-11-15T02:12:16.706790",
          "exception": false,
          "start_time": "2022-11-15T02:12:16.656870",
          "status": "completed"
        },
        "tags": [],
        "id": "108c84fe"
      },
      "source": [
        "##Distribusi Fitur Numerik\n",
        "\n",
        "- Dengan memperhatikan grafik histogram variabel numeriknya, diketahui bahwa fitur `creatinine_phosphokinase` dan `serum_creatinine` sangat positif atau miring ke kanan "
      ]
    },
    {
      "cell_type": "code",
      "execution_count": 10,
      "id": "e97d386b",
      "metadata": {
        "execution": {
          "iopub.execute_input": "2022-11-15T02:12:16.830275Z",
          "iopub.status.busy": "2022-11-15T02:12:16.829387Z",
          "iopub.status.idle": "2022-11-15T02:12:17.958126Z",
          "shell.execute_reply": "2022-11-15T02:12:17.958565Z",
          "shell.execute_reply.started": "2021-11-01T11:33:24.316644Z"
        },
        "papermill": {
          "duration": 1.202778,
          "end_time": "2022-11-15T02:12:17.958721",
          "exception": false,
          "start_time": "2022-11-15T02:12:16.755943",
          "status": "completed"
        },
        "tags": [],
        "colab": {
          "base_uri": "https://localhost:8080/",
          "height": 477
        },
        "id": "e97d386b",
        "outputId": "5fbba33a-96fc-489e-a578-cca07fd90edc"
      },
      "outputs": [
        {
          "output_type": "display_data",
          "data": {
            "text/plain": [
              "<Figure size 720x720 with 6 Axes>"
            ],
            "image/png": "[encoded data removed]"
          },
          "metadata": {
            "needs_background": "light"
          }
        }
      ],
      "source": [
        "colors = sns.color_palette(\"tab10\")\n",
        "with plt.style.context('bmh'):\n",
        "    plt.figure(figsize=(10, 10))\n",
        "    plt.subplots_adjust(wspace=0.4, hspace=0.4)\n",
        "    for i, (col, name) in enumerate(zip(colors, numeric)):\n",
        "        plt.subplot(3, 3, i+1)\n",
        "        sns.histplot(data=df, x=name, color=col)\n",
        "    plt.suptitle('Histogram fitur Numerik', fontsize=15)"
      ]
    },
    {
      "cell_type": "code",
      "execution_count": 11,
      "id": "ac83df0d",
      "metadata": {
        "execution": {
          "iopub.execute_input": "2022-11-15T02:12:18.060368Z",
          "iopub.status.busy": "2022-11-15T02:12:18.059584Z",
          "iopub.status.idle": "2022-11-15T02:12:19.456933Z",
          "shell.execute_reply": "2022-11-15T02:12:19.456150Z",
          "shell.execute_reply.started": "2021-11-01T11:33:25.651952Z"
        },
        "papermill": {
          "duration": 1.449554,
          "end_time": "2022-11-15T02:12:19.457065",
          "exception": false,
          "start_time": "2022-11-15T02:12:18.007511",
          "status": "completed"
        },
        "tags": [],
        "colab": {
          "base_uri": "https://localhost:8080/",
          "height": 1000
        },
        "id": "ac83df0d",
        "outputId": "939df9c6-f51d-4e8b-a026-0dfc7dc5659c"
      },
      "outputs": [
        {
          "output_type": "display_data",
          "data": {
            "text/plain": [
              "<Figure size 720x1440 with 12 Axes>"
            ],
            "image/png": "[encoded data removed]"
          },
          "metadata": {
            "needs_background": "light"
          }
        }
      ],
      "source": [
        "fig, axes = plt.subplots(6, 2, figsize=(10, 20))\n",
        "plt.subplots_adjust(hspace=0.4)\n",
        "axes = axes.ravel()\n",
        "for i, name, col in zip(np.arange(0, 14, 2), numeric, colors):\n",
        "    sns.boxplot(data=df, x=name, ax=axes[i], y='DEATH_EVENT', \n",
        "                orient='h', palette=death_color, showfliers=True)\n",
        "    sns.boxplot(data=df, x=name, ax=axes[i+1], y='DEATH_EVENT', \n",
        "                orient='h', palette=death_color, showfliers=False)\n",
        "plt.suptitle('Boxplot fitur Numerik sehubungan dengan kelas target\\n(dengan dan tanpa outlier) ', \n",
        "             fontsize=15)\n",
        "plt.show()"
      ]
    },
    {
      "cell_type": "markdown",
      "id": "fd49f2c2",
      "metadata": {
        "papermill": {
          "duration": 0.051193,
          "end_time": "2022-11-15T02:12:19.559869",
          "exception": false,
          "start_time": "2022-11-15T02:12:19.508676",
          "status": "completed"
        },
        "tags": [],
        "id": "fd49f2c2"
      },
      "source": [
        "##Fitur Kategoris Distribusi Dengan Kelas Target"
      ]
    },
    {
      "cell_type": "code",
      "execution_count": 12,
      "id": "4cdbce36",
      "metadata": {
        "execution": {
          "iopub.execute_input": "2022-11-15T02:12:19.691370Z",
          "iopub.status.busy": "2022-11-15T02:12:19.690410Z",
          "iopub.status.idle": "2022-11-15T02:12:20.424068Z",
          "shell.execute_reply": "2022-11-15T02:12:20.424583Z",
          "shell.execute_reply.started": "2021-11-01T11:33:26.851233Z"
        },
        "papermill": {
          "duration": 0.81393,
          "end_time": "2022-11-15T02:12:20.424737",
          "exception": false,
          "start_time": "2022-11-15T02:12:19.610807",
          "status": "completed"
        },
        "tags": [],
        "colab": {
          "base_uri": "https://localhost:8080/",
          "height": 877
        },
        "id": "4cdbce36",
        "outputId": "71f3b0e9-63fd-46cf-8bf6-315afb8c878e"
      },
      "outputs": [
        {
          "output_type": "display_data",
          "data": {
            "text/plain": [
              "<Figure size 864x1080 with 5 Axes>"
            ],
            "image/png": "[encoded data removed]"
          },
          "metadata": {
            "needs_background": "light"
          }
        }
      ],
      "source": [
        "colors = sns.color_palette(\"tab10\")\n",
        "with plt.style.context('bmh'):\n",
        "    plt.figure(figsize=(12, 15))\n",
        "    plt.subplots_adjust(wspace=0.4, hspace=0.4)\n",
        "    for i, (col, name) in enumerate(zip(colors, categorical)):\n",
        "        plt.subplot(3, 2, i+1)\n",
        "        sns.countplot(data=df, x=name, hue='DEATH_EVENT')"
      ]
    },
    {
      "cell_type": "markdown",
      "id": "1d57c4c1",
      "metadata": {
        "papermill": {
          "duration": 0.103772,
          "end_time": "2022-11-15T02:12:20.591825",
          "exception": false,
          "start_time": "2022-11-15T02:12:20.488053",
          "status": "completed"
        },
        "tags": [],
        "id": "1d57c4c1"
      },
      "source": [
        "# Manipulasi Data\n",
        "     "
      ]
    },
    {
      "cell_type": "markdown",
      "source": [
        " Pisahkan Fitur dan Kelas Target  "
      ],
      "metadata": {
        "id": "Nw9h237THIwq"
      },
      "id": "Nw9h237THIwq"
    },
    {
      "cell_type": "code",
      "execution_count": 13,
      "id": "2e03a89c",
      "metadata": {
        "execution": {
          "iopub.execute_input": "2022-11-15T02:12:20.772316Z",
          "iopub.status.busy": "2022-11-15T02:12:20.771454Z",
          "iopub.status.idle": "2022-11-15T02:12:20.775059Z",
          "shell.execute_reply": "2022-11-15T02:12:20.773072Z",
          "shell.execute_reply.started": "2021-11-01T11:33:27.762225Z"
        },
        "papermill": {
          "duration": 0.090988,
          "end_time": "2022-11-15T02:12:20.775212",
          "exception": false,
          "start_time": "2022-11-15T02:12:20.684224",
          "status": "completed"
        },
        "tags": [],
        "colab": {
          "base_uri": "https://localhost:8080/"
        },
        "id": "2e03a89c",
        "outputId": "b11ba0da-aff9-474e-c719-57bf7f186a5c"
      },
      "outputs": [
        {
          "output_type": "stream",
          "name": "stdout",
          "text": [
            "(299, 12)\n",
            "(299,)\n"
          ]
        }
      ],
      "source": [
        "X = df.iloc[:, :-1]\n",
        "y = df['DEATH_EVENT']\n",
        "print(X.shape)\n",
        "print(y.shape)"
      ]
    },
    {
      "cell_type": "markdown",
      "id": "577c95b7",
      "metadata": {
        "papermill": {
          "duration": 0.076266,
          "end_time": "2022-11-15T02:12:20.933776",
          "exception": false,
          "start_time": "2022-11-15T02:12:20.857510",
          "status": "completed"
        },
        "tags": [],
        "id": "577c95b7"
      },
      "source": [
        "##  Perbaiki Ketidakseimbangan Kelas menggunakan SMOTE\n",
        "\n",
        "SMOTE adalah teknik oversampling di mana sampel sintetis dihasilkan untuk kelas minoritas, dalam kasus ini, 1's "
      ]
    },
    {
      "cell_type": "code",
      "execution_count": 14,
      "id": "0bfcc4b8",
      "metadata": {
        "execution": {
          "iopub.execute_input": "2022-11-15T02:12:21.117422Z",
          "iopub.status.busy": "2022-11-15T02:12:21.116610Z",
          "iopub.status.idle": "2022-11-15T02:12:21.131240Z",
          "shell.execute_reply": "2022-11-15T02:12:21.132331Z",
          "shell.execute_reply.started": "2021-11-01T11:33:27.777116Z"
        },
        "papermill": {
          "duration": 0.121432,
          "end_time": "2022-11-15T02:12:21.132562",
          "exception": false,
          "start_time": "2022-11-15T02:12:21.011130",
          "status": "completed"
        },
        "tags": [],
        "colab": {
          "base_uri": "https://localhost:8080/"
        },
        "id": "0bfcc4b8",
        "outputId": "ae3ef90f-ee57-4dac-e50f-51ce8681da7d"
      },
      "outputs": [
        {
          "output_type": "stream",
          "name": "stdout",
          "text": [
            "(406, 12)\n",
            "(406,)\n"
          ]
        }
      ],
      "source": [
        "smote = SMOTE(random_state=2021, n_jobs=-1, k_neighbors=5)\n",
        "smote.fit(X, y)\n",
        "X_smote, y_smote = smote.fit_resample(X, y)\n",
        "print(X_smote.shape)\n",
        "print(y_smote.shape)"
      ]
    },
    {
      "cell_type": "markdown",
      "id": "84bb0a22",
      "metadata": {
        "papermill": {
          "duration": 0.086517,
          "end_time": "2022-11-15T02:12:21.308548",
          "exception": false,
          "start_time": "2022-11-15T02:12:21.222031",
          "status": "completed"
        },
        "tags": [],
        "id": "84bb0a22"
      },
      "source": [
        "## Transformasi Data\n",
        "\n",
        "Selama EDA untuk fitur numerik, histogram dari beberapa fitur menunjukkan kemiringan. Beberapa fitur seperti `creatinine_phosphokinase` dan `serum_creatinine` sangat miring. Fitur miring seperti ini dapat dibuat lebih mirip Gaussian menggunakan transformasi daya atau transformasi log. Sebagai contoh:\n",
        "\n"
      ]
    },
    {
      "cell_type": "markdown",
      "source": [
        "**1. creatinine_phosphokinase** menggunakan transformasi log dapat membuat data sesuai dengan normalitas. Dalam hal ini, log-transform menghilangkan atau mengurangi skewness karena data asli mengikuti distribusi log-normal atau kira-kira begitu. "
      ],
      "metadata": {
        "id": "Hi3eYSmzHSZc"
      },
      "id": "Hi3eYSmzHSZc"
    },
    {
      "cell_type": "code",
      "execution_count": 15,
      "id": "770e4f15",
      "metadata": {
        "execution": {
          "iopub.execute_input": "2022-11-15T02:12:21.491833Z",
          "iopub.status.busy": "2022-11-15T02:12:21.491055Z",
          "iopub.status.idle": "2022-11-15T02:12:21.897007Z",
          "shell.execute_reply": "2022-11-15T02:12:21.897501Z",
          "shell.execute_reply.started": "2021-11-01T11:33:27.805231Z"
        },
        "papermill": {
          "duration": 0.502542,
          "end_time": "2022-11-15T02:12:21.897663",
          "exception": false,
          "start_time": "2022-11-15T02:12:21.395121",
          "status": "completed"
        },
        "tags": [],
        "colab": {
          "base_uri": "https://localhost:8080/",
          "height": 370
        },
        "id": "770e4f15",
        "outputId": "48ff3ca7-3294-414e-a968-eab42cdef6fe"
      },
      "outputs": [
        {
          "output_type": "display_data",
          "data": {
            "text/plain": [
              "<Figure size 720x360 with 2 Axes>"
            ],
            "image/png": "[encoded data removed]"
          },
          "metadata": {
            "needs_background": "light"
          }
        }
      ],
      "source": [
        "fig, ax = plt.subplots(1, 2, figsize=(10, 5))\n",
        "qqplot(df.creatinine_phosphokinase, fit=True, line='45', ax=ax[0])\n",
        "ax[0].set_title('sebelum transformasi')\n",
        "qqplot(np.log10(df.creatinine_phosphokinase), fit=True, line='45', ax=ax[1])\n",
        "ax[1].set_title('setelah transformasi')\n",
        "plt.suptitle('plot qq untuk creatinine_phosphokinase', fontweight='bold')\n",
        "plt.show()"
      ]
    },
    {
      "cell_type": "markdown",
      "id": "8ec120bf",
      "metadata": {
        "papermill": {
          "duration": 0.055295,
          "end_time": "2022-11-15T02:12:22.007133",
          "exception": false,
          "start_time": "2022-11-15T02:12:21.951838",
          "status": "completed"
        },
        "tags": [],
        "id": "8ec120bf"
      },
      "source": [
        "Plot qq di atas menunjukkan pengaruh transformasi log pada kreatinin_fosfokinase. Plot QQ (atau plot kuantil-kuantil) adalah plot di mana sumbu sengaja diubah untuk membuat distribusi normal (atau Gaussian) muncul dalam garis lurus. Dengan kata lain, distribusi normal sempurna akan mengikuti garis dengan kemiringan = 1 dan intersep = 0. "
      ]
    },
    {
      "cell_type": "markdown",
      "id": "7bca97ea",
      "metadata": {
        "papermill": {
          "duration": 0.055677,
          "end_time": "2022-11-15T02:12:22.118105",
          "exception": false,
          "start_time": "2022-11-15T02:12:22.062428",
          "status": "completed"
        },
        "tags": [],
        "id": "7bca97ea"
      },
      "source": [
        "**2. serum_creatinine** menggunakan transformasi resiprokal (p = -1). Transformasi ini memiliki efek radikal karena membalikkan urutan di antara nilai-nilai dari tanda yang sama, oleh karena itu, nilai yang lebih besar menjadi lebih kecil, dan sebaliknya."
      ]
    },
    {
      "cell_type": "code",
      "execution_count": 16,
      "id": "1fb24a18",
      "metadata": {
        "execution": {
          "iopub.execute_input": "2022-11-15T02:12:22.244222Z",
          "iopub.status.busy": "2022-11-15T02:12:22.230354Z",
          "iopub.status.idle": "2022-11-15T02:12:22.571695Z",
          "shell.execute_reply": "2022-11-15T02:12:22.571181Z",
          "shell.execute_reply.started": "2021-11-01T11:33:28.137292Z"
        },
        "papermill": {
          "duration": 0.398654,
          "end_time": "2022-11-15T02:12:22.571830",
          "exception": false,
          "start_time": "2022-11-15T02:12:22.173176",
          "status": "completed"
        },
        "tags": [],
        "colab": {
          "base_uri": "https://localhost:8080/",
          "height": 370
        },
        "id": "1fb24a18",
        "outputId": "8ffe1c60-6265-4241-a619-1794576300c9"
      },
      "outputs": [
        {
          "output_type": "display_data",
          "data": {
            "text/plain": [
              "<Figure size 720x360 with 2 Axes>"
            ],
            "image/png": "[encoded data removed]"
          },
          "metadata": {
            "needs_background": "light"
          }
        }
      ],
      "source": [
        "p = -1\n",
        "fig, ax = plt.subplots(1, 2, figsize=(10, 5))\n",
        "\n",
        "qqplot(df.serum_creatinine, fit=True, line='45', ax=ax[0])\n",
        "ax[0].set_title('sebelum transformasi')\n",
        "\n",
        "qqplot(df.serum_creatinine**p, fit=True, line='45', ax=ax[1])\n",
        "ax[1].set_title('sesudah transformasi ')\n",
        "\n",
        "plt.suptitle('plot q-q untuk serum_creatinine', fontweight='bold')\n",
        "plt.show()"
      ]
    },
    {
      "cell_type": "markdown",
      "id": "7fa59d3c",
      "metadata": {
        "papermill": {
          "duration": 0.05768,
          "end_time": "2022-11-15T02:12:22.686058",
          "exception": false,
          "start_time": "2022-11-15T02:12:22.628378",
          "status": "completed"
        },
        "tags": [],
        "id": "7fa59d3c"
      },
      "source": [
        "Power Transformer dari paket sklearn-learn menyediakan dua metode untuk membuat distribusi seperti gaussian\n",
        "- Boxcox\n",
        "- Yeo-johnson\n",
        "\n",
        "Kedua metode ini mencari nilai p yang tepat (seperti pada contoh di atas) agar distribusinya menjadi normal. Yeo-johnson adalah versi upgrade dari Boxcox karena berurusan dengan data dengan nilai negatif "
      ]
    },
    {
      "cell_type": "code",
      "execution_count": 17,
      "id": "5ade51c9",
      "metadata": {
        "execution": {
          "iopub.execute_input": "2022-11-15T02:12:22.846687Z",
          "iopub.status.busy": "2022-11-15T02:12:22.809214Z",
          "iopub.status.idle": "2022-11-15T02:12:22.854033Z",
          "shell.execute_reply": "2022-11-15T02:12:22.853476Z",
          "shell.execute_reply.started": "2021-11-01T11:33:28.444978Z"
        },
        "papermill": {
          "duration": 0.110346,
          "end_time": "2022-11-15T02:12:22.854175",
          "exception": false,
          "start_time": "2022-11-15T02:12:22.743829",
          "status": "completed"
        },
        "tags": [],
        "colab": {
          "base_uri": "https://localhost:8080/"
        },
        "id": "5ade51c9",
        "outputId": "6a468f58-5318-4852-f533-594864e28a99"
      },
      "outputs": [
        {
          "output_type": "execute_result",
          "data": {
            "text/plain": [
              "array([[ 1.0270975 , -0.78583069,  0.66513694, ...,  0.80647784,\n",
              "        -0.59062442, -2.09224159],\n",
              "       [-0.58656988, -0.78583069,  2.55729366, ...,  0.80647784,\n",
              "        -0.59062442, -1.97807977],\n",
              "       [ 0.26608504, -0.78583069, -0.60636642, ...,  0.80647784,\n",
              "         1.69312335, -1.9274372 ],\n",
              "       ...,\n",
              "       [ 0.10368013,  1.27253874,  0.53713399, ..., -1.23995968,\n",
              "        -0.59062442, -1.23081612],\n",
              "       [ 1.91177672,  1.27253874, -0.74622526, ...,  0.80647784,\n",
              "        -0.59062442, -0.95808655],\n",
              "       [-0.67793462,  1.27253874, -0.4004775 , ...,  0.80647784,\n",
              "        -0.59062442, -1.67628156]])"
            ]
          },
          "metadata": {},
          "execution_count": 17
        }
      ],
      "source": [
        "pt = PowerTransformer(method='yeo-johnson')\n",
        "X_pt = pt.fit_transform(X_smote)\n",
        "X_pt"
      ]
    },
    {
      "cell_type": "markdown",
      "id": "09780e5f",
      "metadata": {
        "papermill": {
          "duration": 0.057441,
          "end_time": "2022-11-15T02:12:22.977298",
          "exception": false,
          "start_time": "2022-11-15T02:12:22.919857",
          "status": "completed"
        },
        "tags": [],
        "id": "09780e5f"
      },
      "source": [
        "## Normalisasi Data\n",
        "\n",
        "Terakhir, normalkan data menggunakan min-max scaler yang menskalakan data ke kisaran 0-1. Penskalaan diperlukan untuk ML juga seperti SVM, regresi logistik, knn yang sensitif terhadap penskalaan dan outlier (berlaku untuk masalah klasifikasi dan regresi). "
      ]
    },
    {
      "cell_type": "code",
      "execution_count": 18,
      "id": "97badd89",
      "metadata": {
        "execution": {
          "iopub.execute_input": "2022-11-15T02:12:23.097026Z",
          "iopub.status.busy": "2022-11-15T02:12:23.096329Z",
          "iopub.status.idle": "2022-11-15T02:12:23.100428Z",
          "shell.execute_reply": "2022-11-15T02:12:23.100837Z",
          "shell.execute_reply.started": "2021-11-01T11:33:28.490787Z"
        },
        "papermill": {
          "duration": 0.066802,
          "end_time": "2022-11-15T02:12:23.101011",
          "exception": false,
          "start_time": "2022-11-15T02:12:23.034209",
          "status": "completed"
        },
        "tags": [],
        "id": "97badd89"
      },
      "outputs": [],
      "source": [
        "mm = MinMaxScaler()\n",
        "X_scaled = mm.fit_transform(X_pt)"
      ]
    },
    {
      "cell_type": "markdown",
      "id": "d00bf9db",
      "metadata": {
        "papermill": {
          "duration": 0.056353,
          "end_time": "2022-11-15T02:12:23.216210",
          "exception": false,
          "start_time": "2022-11-15T02:12:23.159857",
          "status": "completed"
        },
        "tags": [],
        "id": "d00bf9db"
      },
      "source": [
        "##Distribusi Fitur Setelah Transformasi dan Penskalaan "
      ]
    },
    {
      "cell_type": "code",
      "execution_count": 19,
      "id": "1a201252",
      "metadata": {
        "execution": {
          "iopub.execute_input": "2022-11-15T02:12:23.336820Z",
          "iopub.status.busy": "2022-11-15T02:12:23.335929Z",
          "iopub.status.idle": "2022-11-15T02:12:24.687531Z",
          "shell.execute_reply": "2022-11-15T02:12:24.688008Z",
          "shell.execute_reply.started": "2021-11-01T11:33:28.498077Z"
        },
        "papermill": {
          "duration": 1.413468,
          "end_time": "2022-11-15T02:12:24.688173",
          "exception": false,
          "start_time": "2022-11-15T02:12:23.274705",
          "status": "completed"
        },
        "tags": [],
        "colab": {
          "base_uri": "https://localhost:8080/",
          "height": 607
        },
        "id": "1a201252",
        "outputId": "d311baac-41f8-41ae-ffe1-64c2a79cf7e0"
      },
      "outputs": [
        {
          "output_type": "display_data",
          "data": {
            "text/plain": [
              "<Figure size 720x720 with 12 Axes>"
            ],
            "image/png": "[encoded data removed]"
          },
          "metadata": {
            "needs_background": "light"
          }
        }
      ],
      "source": [
        "pd.DataFrame(X_scaled, columns=X.columns).hist(figsize=(10, 10))\n",
        "plt.show()"
      ]
    },
    {
      "cell_type": "markdown",
      "id": "7e424cc2",
      "metadata": {
        "papermill": {
          "duration": 0.058706,
          "end_time": "2022-11-15T02:12:24.804338",
          "exception": false,
          "start_time": "2022-11-15T02:12:24.745632",
          "status": "completed"
        },
        "tags": [],
        "id": "7e424cc2"
      },
      "source": [
        "##  Seleksi Fitur menggunakan Random Forest  "
      ]
    },
    {
      "cell_type": "code",
      "execution_count": 20,
      "id": "b00d6c8f",
      "metadata": {
        "execution": {
          "iopub.execute_input": "2022-11-15T02:12:24.924942Z",
          "iopub.status.busy": "2022-11-15T02:12:24.924035Z",
          "iopub.status.idle": "2022-11-15T02:12:25.181704Z",
          "shell.execute_reply": "2022-11-15T02:12:25.181189Z",
          "shell.execute_reply.started": "2021-11-01T11:33:29.965503Z"
        },
        "papermill": {
          "duration": 0.319786,
          "end_time": "2022-11-15T02:12:25.181845",
          "exception": false,
          "start_time": "2022-11-15T02:12:24.862059",
          "status": "completed"
        },
        "tags": [],
        "colab": {
          "base_uri": "https://localhost:8080/"
        },
        "id": "b00d6c8f",
        "outputId": "eb72e948-f6f1-42cb-8b9c-fefa459c92ad"
      },
      "outputs": [
        {
          "output_type": "execute_result",
          "data": {
            "text/plain": [
              "RandomForestClassifier(class_weight='balanced', max_depth=10, n_jobs=-1,\n",
              "                       random_state=2021)"
            ]
          },
          "metadata": {},
          "execution_count": 20
        }
      ],
      "source": [
        "rf = RandomForestClassifier(n_estimators=100, max_depth=10, n_jobs=-1, \n",
        "                            class_weight='balanced', random_state=2021)\n",
        "rf.fit(X_scaled, y_smote)"
      ]
    },
    {
      "cell_type": "code",
      "execution_count": 21,
      "id": "63d4be37",
      "metadata": {
        "execution": {
          "iopub.execute_input": "2022-11-15T02:12:25.304150Z",
          "iopub.status.busy": "2022-11-15T02:12:25.303290Z",
          "iopub.status.idle": "2022-11-15T02:12:25.670251Z",
          "shell.execute_reply": "2022-11-15T02:12:25.670792Z",
          "shell.execute_reply.started": "2021-11-01T11:33:30.228847Z"
        },
        "papermill": {
          "duration": 0.432095,
          "end_time": "2022-11-15T02:12:25.670959",
          "exception": false,
          "start_time": "2022-11-15T02:12:25.238864",
          "status": "completed"
        },
        "tags": [],
        "colab": {
          "base_uri": "https://localhost:8080/",
          "height": 334
        },
        "id": "63d4be37",
        "outputId": "701e862a-347a-480d-f1e9-600ce7f07e75"
      },
      "outputs": [
        {
          "output_type": "display_data",
          "data": {
            "text/plain": [
              "<Figure size 576x360 with 1 Axes>"
            ],
            "image/png": "[encoded data removed]"
          },
          "metadata": {
            "needs_background": "light"
          }
        }
      ],
      "source": [
        "feature_imp = pd.DataFrame(np.round(rf.feature_importances_*100, 2), index=X.columns, columns=['importance%'])\n",
        "feature_imp = feature_imp.sort_values(by='importance%', ascending=False)\n",
        "feature_imp.plot(kind='barh', figsize=(8, 5))\n",
        "plt.xlabel('percentage')\n",
        "plt.show()"
      ]
    },
    {
      "cell_type": "code",
      "execution_count": 22,
      "id": "bceb28d4",
      "metadata": {
        "execution": {
          "iopub.execute_input": "2022-11-15T02:12:25.799448Z",
          "iopub.status.busy": "2022-11-15T02:12:25.798544Z",
          "iopub.status.idle": "2022-11-15T02:12:25.801414Z",
          "shell.execute_reply": "2022-11-15T02:12:25.801828Z",
          "shell.execute_reply.started": "2021-11-01T11:33:30.573327Z"
        },
        "papermill": {
          "duration": 0.071109,
          "end_time": "2022-11-15T02:12:25.801966",
          "exception": false,
          "start_time": "2022-11-15T02:12:25.730857",
          "status": "completed"
        },
        "tags": [],
        "colab": {
          "base_uri": "https://localhost:8080/"
        },
        "id": "bceb28d4",
        "outputId": "2cbae71a-2e06-4475-cf9f-ccb409f34908"
      },
      "outputs": [
        {
          "output_type": "execute_result",
          "data": {
            "text/plain": [
              "Index(['time', 'serum_creatinine', 'ejection_fraction'], dtype='object')"
            ]
          },
          "metadata": {},
          "execution_count": 22
        }
      ],
      "source": [
        "imp_features = feature_imp.index[:3]\n",
        "imp_features"
      ]
    },
    {
      "cell_type": "code",
      "execution_count": 23,
      "id": "66fd69fc",
      "metadata": {
        "execution": {
          "iopub.execute_input": "2022-11-15T02:12:25.932768Z",
          "iopub.status.busy": "2022-11-15T02:12:25.932066Z",
          "iopub.status.idle": "2022-11-15T02:12:25.938277Z",
          "shell.execute_reply": "2022-11-15T02:12:25.937684Z",
          "shell.execute_reply.started": "2021-11-01T11:33:30.58175Z"
        },
        "papermill": {
          "duration": 0.077884,
          "end_time": "2022-11-15T02:12:25.938430",
          "exception": false,
          "start_time": "2022-11-15T02:12:25.860546",
          "status": "completed"
        },
        "tags": [],
        "colab": {
          "base_uri": "https://localhost:8080/",
          "height": 424
        },
        "id": "66fd69fc",
        "outputId": "4021b93a-5a6a-429e-d48f-37b71816ddf3"
      },
      "outputs": [
        {
          "output_type": "execute_result",
          "data": {
            "text/plain": [
              "         time  serum_creatinine  ejection_fraction\n",
              "0    0.000000          0.737676           0.165986\n",
              "1    0.029502          0.489581           0.512213\n",
              "2    0.042589          0.575762           0.165986\n",
              "3    0.042589          0.737676           0.165986\n",
              "4    0.054846          0.845279           0.165986\n",
              "..        ...               ...                ...\n",
              "401  0.142785          0.527085           0.542704\n",
              "402  0.142785          0.856704           0.319941\n",
              "403  0.222609          0.436728           0.557539\n",
              "404  0.293088          0.492972           0.641457\n",
              "405  0.107492          0.465361           0.496532\n",
              "\n",
              "[406 rows x 3 columns]"
            ],
            "text/html": [
              "\n",
              "  <div id=\"df-26cffe79-3da2-4ec8-ae7c-415db1f1b772\">\n",
              "    <div class=\"colab-df-container\">\n",
              "      <div>\n",
              "<style scoped>\n",
              "    .dataframe tbody tr th:only-of-type {\n",
              "        vertical-align: middle;\n",
              "    }\n",
              "\n",
              "    .dataframe tbody tr th {\n",
              "        vertical-align: top;\n",
              "    }\n",
              "\n",
              "    .dataframe thead th {\n",
              "        text-align: right;\n",
              "    }\n",
              "</style>\n",
              "<table border=\"1\" class=\"dataframe\">\n",
              "  <thead>\n",
              "    <tr style=\"text-align: right;\">\n",
              "      <th></th>\n",
              "      <th>time</th>\n",
              "      <th>serum_creatinine</th>\n",
              "      <th>ejection_fraction</th>\n",
              "    </tr>\n",
              "  </thead>\n",
              "  <tbody>\n",
              "    <tr>\n",
              "      <th>0</th>\n",
              "      <td>0.000000</td>\n",
              "      <td>0.737676</td>\n",
              "      <td>0.165986</td>\n",
              "    </tr>\n",
              "    <tr>\n",
              "      <th>1</th>\n",
              "      <td>0.029502</td>\n",
              "      <td>0.489581</td>\n",
              "      <td>0.512213</td>\n",
              "    </tr>\n",
              "    <tr>\n",
              "      <th>2</th>\n",
              "      <td>0.042589</td>\n",
              "      <td>0.575762</td>\n",
              "      <td>0.165986</td>\n",
              "    </tr>\n",
              "    <tr>\n",
              "      <th>3</th>\n",
              "      <td>0.042589</td>\n",
              "      <td>0.737676</td>\n",
              "      <td>0.165986</td>\n",
              "    </tr>\n",
              "    <tr>\n",
              "      <th>4</th>\n",
              "      <td>0.054846</td>\n",
              "      <td>0.845279</td>\n",
              "      <td>0.165986</td>\n",
              "    </tr>\n",
              "    <tr>\n",
              "      <th>...</th>\n",
              "      <td>...</td>\n",
              "      <td>...</td>\n",
              "      <td>...</td>\n",
              "    </tr>\n",
              "    <tr>\n",
              "      <th>401</th>\n",
              "      <td>0.142785</td>\n",
              "      <td>0.527085</td>\n",
              "      <td>0.542704</td>\n",
              "    </tr>\n",
              "    <tr>\n",
              "      <th>402</th>\n",
              "      <td>0.142785</td>\n",
              "      <td>0.856704</td>\n",
              "      <td>0.319941</td>\n",
              "    </tr>\n",
              "    <tr>\n",
              "      <th>403</th>\n",
              "      <td>0.222609</td>\n",
              "      <td>0.436728</td>\n",
              "      <td>0.557539</td>\n",
              "    </tr>\n",
              "    <tr>\n",
              "      <th>404</th>\n",
              "      <td>0.293088</td>\n",
              "      <td>0.492972</td>\n",
              "      <td>0.641457</td>\n",
              "    </tr>\n",
              "    <tr>\n",
              "      <th>405</th>\n",
              "      <td>0.107492</td>\n",
              "      <td>0.465361</td>\n",
              "      <td>0.496532</td>\n",
              "    </tr>\n",
              "  </tbody>\n",
              "</table>\n",
              "<p>406 rows × 3 columns</p>\n",
              "</div>\n",
              "      <button class=\"colab-df-convert\" onclick=\"convertToInteractive('df-26cffe79-3da2-4ec8-ae7c-415db1f1b772')\"\n",
              "              title=\"Convert this dataframe to an interactive table.\"\n",
              "              style=\"display:none;\">\n",
              "        \n",
              "  <svg xmlns=\"http://www.w3.org/2000/svg\" height=\"24px\"viewBox=\"0 0 24 24\"\n",
              "       width=\"24px\">\n",
              "    <path d=\"M0 0h24v24H0V0z\" fill=\"none\"/>\n",
              "    <path d=\"M18.56 5.44l.94 2.06.94-2.06 2.06-.94-2.06-.94-.94-2.06-.94 2.06-2.06.94zm-11 1L8.5 8.5l.94-2.06 2.06-.94-2.06-.94L8.5 2.5l-.94 2.06-2.06.94zm10 10l.94 2.06.94-2.06 2.06-.94-2.06-.94-.94-2.06-.94 2.06-2.06.94z\"/><path d=\"M17.41 7.96l-1.37-1.37c-.4-.4-.92-.59-1.43-.59-.52 0-1.04.2-1.43.59L10.3 9.45l-7.72 7.72c-.78.78-.78 2.05 0 2.83L4 21.41c.39.39.9.59 1.41.59.51 0 1.02-.2 1.41-.59l7.78-7.78 2.81-2.81c.8-.78.8-2.07 0-2.86zM5.41 20L4 18.59l7.72-7.72 1.47 1.35L5.41 20z\"/>\n",
              "  </svg>\n",
              "      </button>\n",
              "      \n",
              "  <style>\n",
              "    .colab-df-container {\n",
              "      display:flex;\n",
              "      flex-wrap:wrap;\n",
              "      gap: 12px;\n",
              "    }\n",
              "\n",
              "    .colab-df-convert {\n",
              "      background-color: #E8F0FE;\n",
              "      border: none;\n",
              "      border-radius: 50%;\n",
              "      cursor: pointer;\n",
              "      display: none;\n",
              "      fill: #1967D2;\n",
              "      height: 32px;\n",
              "      padding: 0 0 0 0;\n",
              "      width: 32px;\n",
              "    }\n",
              "\n",
              "    .colab-df-convert:hover {\n",
              "      background-color: #E2EBFA;\n",
              "      box-shadow: 0px 1px 2px rgba(60, 64, 67, 0.3), 0px 1px 3px 1px rgba(60, 64, 67, 0.15);\n",
              "      fill: #174EA6;\n",
              "    }\n",
              "\n",
              "    [theme=dark] .colab-df-convert {\n",
              "      background-color: #3B4455;\n",
              "      fill: #D2E3FC;\n",
              "    }\n",
              "\n",
              "    [theme=dark] .colab-df-convert:hover {\n",
              "      background-color: #434B5C;\n",
              "      box-shadow: 0px 1px 3px 1px rgba(0, 0, 0, 0.15);\n",
              "      filter: drop-shadow(0px 1px 2px rgba(0, 0, 0, 0.3));\n",
              "      fill: #FFFFFF;\n",
              "    }\n",
              "  </style>\n",
              "\n",
              "      <script>\n",
              "        const buttonEl =\n",
              "          document.querySelector('#df-26cffe79-3da2-4ec8-ae7c-415db1f1b772 button.colab-df-convert');\n",
              "        buttonEl.style.display =\n",
              "          google.colab.kernel.accessAllowed ? 'block' : 'none';\n",
              "\n",
              "        async function convertToInteractive(key) {\n",
              "          const element = document.querySelector('#df-26cffe79-3da2-4ec8-ae7c-415db1f1b772');\n",
              "          const dataTable =\n",
              "            await google.colab.kernel.invokeFunction('convertToInteractive',\n",
              "                                                     [key], {});\n",
              "          if (!dataTable) return;\n",
              "\n",
              "          const docLinkHtml = 'Like what you see? Visit the ' +\n",
              "            '<a target=\"_blank\" href=https://colab.research.google.com/notebooks/data_table.ipynb>data table notebook</a>'\n",
              "            + ' to learn more about interactive tables.';\n",
              "          element.innerHTML = '';\n",
              "          dataTable['output_type'] = 'display_data';\n",
              "          await google.colab.output.renderOutput(dataTable, element);\n",
              "          const docLink = document.createElement('div');\n",
              "          docLink.innerHTML = docLinkHtml;\n",
              "          element.appendChild(docLink);\n",
              "        }\n",
              "      </script>\n",
              "    </div>\n",
              "  </div>\n",
              "  "
            ]
          },
          "metadata": {},
          "execution_count": 23
        }
      ],
      "source": [
        "X_selected = pd.DataFrame(X_scaled, columns=X.columns)[imp_features]\n",
        "X_selected"
      ]
    },
    {
      "cell_type": "markdown",
      "id": "42606f8d",
      "metadata": {
        "papermill": {
          "duration": 0.059191,
          "end_time": "2022-11-15T02:12:26.060629",
          "exception": false,
          "start_time": "2022-11-15T02:12:26.001438",
          "status": "completed"
        },
        "tags": [],
        "id": "42606f8d"
      },
      "source": [
        "#  Pemodelan Data dan Hyperparameter\n",
        "\n",
        "Oleh karena itu, tujuannya sekarang adalah untuk memisahkan kedua kelas seperti yang ditunjukkan pada gambar di bawah ini\n",
        "\n",
        "Semua pengklasifikasi telah disetel untuk memaksimalkan skor f1 alih-alih akurasi. Skor F1 adalah rata-rata harmonik dari recall dan presisi. Skor ini akan mendukung pengklasifikasi dengan presisi dan daya ingat yang sama. Saya bisa saja mencapai daya ingat atau presisi yang tinggi tetapi sayangnya, kita tidak dapat memilikinya dua arah karena meningkatkan presisi mengurangi daya ingat, dan sebaliknya. "
      ]
    },
    {
      "cell_type": "code",
      "execution_count": 24,
      "id": "93d56b64",
      "metadata": {
        "execution": {
          "iopub.execute_input": "2022-11-15T02:12:26.191603Z",
          "iopub.status.busy": "2022-11-15T02:12:26.190992Z",
          "iopub.status.idle": "2022-11-15T02:12:26.197142Z",
          "shell.execute_reply": "2022-11-15T02:12:26.196410Z",
          "shell.execute_reply.started": "2021-11-01T11:33:30.599074Z"
        },
        "papermill": {
          "duration": 0.07755,
          "end_time": "2022-11-15T02:12:26.197336",
          "exception": false,
          "start_time": "2022-11-15T02:12:26.119786",
          "status": "completed"
        },
        "tags": [],
        "colab": {
          "base_uri": "https://localhost:8080/",
          "height": 424
        },
        "id": "93d56b64",
        "outputId": "adc9fcb3-db1d-413f-b854-1269c129c099"
      },
      "outputs": [
        {
          "output_type": "execute_result",
          "data": {
            "text/plain": [
              "         time  serum_creatinine  ejection_fraction  target\n",
              "0    0.000000          0.737676           0.165986       1\n",
              "1    0.029502          0.489581           0.512213       1\n",
              "2    0.042589          0.575762           0.165986       1\n",
              "3    0.042589          0.737676           0.165986       1\n",
              "4    0.054846          0.845279           0.165986       1\n",
              "..        ...               ...                ...     ...\n",
              "401  0.142785          0.527085           0.542704       1\n",
              "402  0.142785          0.856704           0.319941       1\n",
              "403  0.222609          0.436728           0.557539       1\n",
              "404  0.293088          0.492972           0.641457       1\n",
              "405  0.107492          0.465361           0.496532       1\n",
              "\n",
              "[406 rows x 4 columns]"
            ],
            "text/html": [
              "\n",
              "  <div id=\"df-ff50adc6-cb28-40ea-ad93-29cc08b34fd6\">\n",
              "    <div class=\"colab-df-container\">\n",
              "      <div>\n",
              "<style scoped>\n",
              "    .dataframe tbody tr th:only-of-type {\n",
              "        vertical-align: middle;\n",
              "    }\n",
              "\n",
              "    .dataframe tbody tr th {\n",
              "        vertical-align: top;\n",
              "    }\n",
              "\n",
              "    .dataframe thead th {\n",
              "        text-align: right;\n",
              "    }\n",
              "</style>\n",
              "<table border=\"1\" class=\"dataframe\">\n",
              "  <thead>\n",
              "    <tr style=\"text-align: right;\">\n",
              "      <th></th>\n",
              "      <th>time</th>\n",
              "      <th>serum_creatinine</th>\n",
              "      <th>ejection_fraction</th>\n",
              "      <th>target</th>\n",
              "    </tr>\n",
              "  </thead>\n",
              "  <tbody>\n",
              "    <tr>\n",
              "      <th>0</th>\n",
              "      <td>0.000000</td>\n",
              "      <td>0.737676</td>\n",
              "      <td>0.165986</td>\n",
              "      <td>1</td>\n",
              "    </tr>\n",
              "    <tr>\n",
              "      <th>1</th>\n",
              "      <td>0.029502</td>\n",
              "      <td>0.489581</td>\n",
              "      <td>0.512213</td>\n",
              "      <td>1</td>\n",
              "    </tr>\n",
              "    <tr>\n",
              "      <th>2</th>\n",
              "      <td>0.042589</td>\n",
              "      <td>0.575762</td>\n",
              "      <td>0.165986</td>\n",
              "      <td>1</td>\n",
              "    </tr>\n",
              "    <tr>\n",
              "      <th>3</th>\n",
              "      <td>0.042589</td>\n",
              "      <td>0.737676</td>\n",
              "      <td>0.165986</td>\n",
              "      <td>1</td>\n",
              "    </tr>\n",
              "    <tr>\n",
              "      <th>4</th>\n",
              "      <td>0.054846</td>\n",
              "      <td>0.845279</td>\n",
              "      <td>0.165986</td>\n",
              "      <td>1</td>\n",
              "    </tr>\n",
              "    <tr>\n",
              "      <th>...</th>\n",
              "      <td>...</td>\n",
              "      <td>...</td>\n",
              "      <td>...</td>\n",
              "      <td>...</td>\n",
              "    </tr>\n",
              "    <tr>\n",
              "      <th>401</th>\n",
              "      <td>0.142785</td>\n",
              "      <td>0.527085</td>\n",
              "      <td>0.542704</td>\n",
              "      <td>1</td>\n",
              "    </tr>\n",
              "    <tr>\n",
              "      <th>402</th>\n",
              "      <td>0.142785</td>\n",
              "      <td>0.856704</td>\n",
              "      <td>0.319941</td>\n",
              "      <td>1</td>\n",
              "    </tr>\n",
              "    <tr>\n",
              "      <th>403</th>\n",
              "      <td>0.222609</td>\n",
              "      <td>0.436728</td>\n",
              "      <td>0.557539</td>\n",
              "      <td>1</td>\n",
              "    </tr>\n",
              "    <tr>\n",
              "      <th>404</th>\n",
              "      <td>0.293088</td>\n",
              "      <td>0.492972</td>\n",
              "      <td>0.641457</td>\n",
              "      <td>1</td>\n",
              "    </tr>\n",
              "    <tr>\n",
              "      <th>405</th>\n",
              "      <td>0.107492</td>\n",
              "      <td>0.465361</td>\n",
              "      <td>0.496532</td>\n",
              "      <td>1</td>\n",
              "    </tr>\n",
              "  </tbody>\n",
              "</table>\n",
              "<p>406 rows × 4 columns</p>\n",
              "</div>\n",
              "      <button class=\"colab-df-convert\" onclick=\"convertToInteractive('df-ff50adc6-cb28-40ea-ad93-29cc08b34fd6')\"\n",
              "              title=\"Convert this dataframe to an interactive table.\"\n",
              "              style=\"display:none;\">\n",
              "        \n",
              "  <svg xmlns=\"http://www.w3.org/2000/svg\" height=\"24px\"viewBox=\"0 0 24 24\"\n",
              "       width=\"24px\">\n",
              "    <path d=\"M0 0h24v24H0V0z\" fill=\"none\"/>\n",
              "    <path d=\"M18.56 5.44l.94 2.06.94-2.06 2.06-.94-2.06-.94-.94-2.06-.94 2.06-2.06.94zm-11 1L8.5 8.5l.94-2.06 2.06-.94-2.06-.94L8.5 2.5l-.94 2.06-2.06.94zm10 10l.94 2.06.94-2.06 2.06-.94-2.06-.94-.94-2.06-.94 2.06-2.06.94z\"/><path d=\"M17.41 7.96l-1.37-1.37c-.4-.4-.92-.59-1.43-.59-.52 0-1.04.2-1.43.59L10.3 9.45l-7.72 7.72c-.78.78-.78 2.05 0 2.83L4 21.41c.39.39.9.59 1.41.59.51 0 1.02-.2 1.41-.59l7.78-7.78 2.81-2.81c.8-.78.8-2.07 0-2.86zM5.41 20L4 18.59l7.72-7.72 1.47 1.35L5.41 20z\"/>\n",
              "  </svg>\n",
              "      </button>\n",
              "      \n",
              "  <style>\n",
              "    .colab-df-container {\n",
              "      display:flex;\n",
              "      flex-wrap:wrap;\n",
              "      gap: 12px;\n",
              "    }\n",
              "\n",
              "    .colab-df-convert {\n",
              "      background-color: #E8F0FE;\n",
              "      border: none;\n",
              "      border-radius: 50%;\n",
              "      cursor: pointer;\n",
              "      display: none;\n",
              "      fill: #1967D2;\n",
              "      height: 32px;\n",
              "      padding: 0 0 0 0;\n",
              "      width: 32px;\n",
              "    }\n",
              "\n",
              "    .colab-df-convert:hover {\n",
              "      background-color: #E2EBFA;\n",
              "      box-shadow: 0px 1px 2px rgba(60, 64, 67, 0.3), 0px 1px 3px 1px rgba(60, 64, 67, 0.15);\n",
              "      fill: #174EA6;\n",
              "    }\n",
              "\n",
              "    [theme=dark] .colab-df-convert {\n",
              "      background-color: #3B4455;\n",
              "      fill: #D2E3FC;\n",
              "    }\n",
              "\n",
              "    [theme=dark] .colab-df-convert:hover {\n",
              "      background-color: #434B5C;\n",
              "      box-shadow: 0px 1px 3px 1px rgba(0, 0, 0, 0.15);\n",
              "      filter: drop-shadow(0px 1px 2px rgba(0, 0, 0, 0.3));\n",
              "      fill: #FFFFFF;\n",
              "    }\n",
              "  </style>\n",
              "\n",
              "      <script>\n",
              "        const buttonEl =\n",
              "          document.querySelector('#df-ff50adc6-cb28-40ea-ad93-29cc08b34fd6 button.colab-df-convert');\n",
              "        buttonEl.style.display =\n",
              "          google.colab.kernel.accessAllowed ? 'block' : 'none';\n",
              "\n",
              "        async function convertToInteractive(key) {\n",
              "          const element = document.querySelector('#df-ff50adc6-cb28-40ea-ad93-29cc08b34fd6');\n",
              "          const dataTable =\n",
              "            await google.colab.kernel.invokeFunction('convertToInteractive',\n",
              "                                                     [key], {});\n",
              "          if (!dataTable) return;\n",
              "\n",
              "          const docLinkHtml = 'Like what you see? Visit the ' +\n",
              "            '<a target=\"_blank\" href=https://colab.research.google.com/notebooks/data_table.ipynb>data table notebook</a>'\n",
              "            + ' to learn more about interactive tables.';\n",
              "          element.innerHTML = '';\n",
              "          dataTable['output_type'] = 'display_data';\n",
              "          await google.colab.output.renderOutput(dataTable, element);\n",
              "          const docLink = document.createElement('div');\n",
              "          docLink.innerHTML = docLinkHtml;\n",
              "          element.appendChild(docLink);\n",
              "        }\n",
              "      </script>\n",
              "    </div>\n",
              "  </div>\n",
              "  "
            ]
          },
          "metadata": {},
          "execution_count": 24
        }
      ],
      "source": [
        "model_data = X_selected\n",
        "model_data['target'] = y_smote\n",
        "model_data"
      ]
    },
    {
      "cell_type": "code",
      "execution_count": 25,
      "id": "08ebcc91",
      "metadata": {
        "execution": {
          "iopub.execute_input": "2022-11-15T02:12:26.323334Z",
          "iopub.status.busy": "2022-11-15T02:12:26.322791Z",
          "iopub.status.idle": "2022-11-15T02:12:27.513123Z",
          "shell.execute_reply": "2022-11-15T02:12:27.512674Z",
          "shell.execute_reply.started": "2021-11-01T11:33:30.616905Z"
        },
        "papermill": {
          "duration": 1.254679,
          "end_time": "2022-11-15T02:12:27.513258",
          "exception": false,
          "start_time": "2022-11-15T02:12:26.258579",
          "status": "completed"
        },
        "tags": [],
        "colab": {
          "base_uri": "https://localhost:8080/",
          "height": 542
        },
        "id": "08ebcc91",
        "outputId": "a6ff16ef-e699-46ed-95cf-d27b38026eaf"
      },
      "outputs": [
        {
          "output_type": "display_data",
          "data": {
            "text/html": [
              "<html>\n",
              "<head><meta charset=\"utf-8\" /></head>\n",
              "<body>\n",
              "    <div>            <script src=\"https://cdnjs.cloudflare.com/ajax/libs/mathjax/2.7.5/MathJax.js?config=TeX-AMS-MML_SVG\"></script><script type=\"text/javascript\">if (window.MathJax) {MathJax.Hub.Config({SVG: {font: \"STIX-Web\"}});}</script>                <script type=\"text/javascript\">window.PlotlyConfig = {MathJaxConfig: 'local'};</script>\n",
              "        <script src=\"https://cdn.plot.ly/plotly-2.8.3.min.js\"></script>                <div id=\"c6d38cec-5393-4906-9802-2d9022ab2f29\" class=\"plotly-graph-div\" style=\"height:525px; width:100%;\"></div>            <script type=\"text/javascript\">                                    window.PLOTLYENV=window.PLOTLYENV || {};                                    if (document.getElementById(\"c6d38cec-5393-4906-9802-2d9022ab2f29\")) {                    Plotly.newPlot(                        \"c6d38cec-5393-4906-9802-2d9022ab2f29\",                        [{\"hovertemplate\":\"time=%{x}<br>serum_creatinine=%{y}<br>ejection_fraction=%{z}<br>target=%{marker.color}<extra></extra>\",\"legendgroup\":\"\",\"marker\":{\"color\":[1,1,1,1,1,1,1,1,1,1,1,1,1,1,0,1,1,1,1,1,0,1,1,0,1,1,1,1,1,1,1,1,1,0,1,1,1,1,0,1,1,1,1,0,1,1,1,1,1,1,1,1,1,1,1,1,0,0,1,1,1,1,0,1,0,1,1,1,1,1,0,0,1,0,1,1,0,0,0,0,0,0,1,0,1,0,0,0,0,0,0,0,0,1,0,0,0,0,0,0,0,0,0,0,0,1,0,0,0,0,1,0,0,1,0,0,0,0,0,1,0,0,0,0,1,0,1,0,0,0,0,0,0,0,0,0,0,0,0,0,1,0,0,0,1,0,0,0,1,0,1,0,0,0,0,0,0,0,0,0,0,0,0,1,1,1,0,1,0,0,0,0,0,0,0,0,0,0,0,0,0,1,1,1,1,1,1,1,0,0,0,0,0,0,1,1,0,0,0,0,0,0,0,0,0,0,0,0,0,0,0,0,0,1,0,0,0,1,0,0,1,0,0,0,0,0,0,0,0,0,1,0,0,0,0,0,0,0,0,0,0,0,0,0,0,0,1,0,0,0,0,0,0,0,0,0,0,0,0,0,0,0,1,0,0,0,1,0,0,0,0,0,0,0,0,0,0,0,0,0,0,0,0,0,0,0,0,0,0,0,0,0,0,0,0,0,0,0,0,1,1,1,1,1,1,1,1,1,1,1,1,1,1,1,1,1,1,1,1,1,1,1,1,1,1,1,1,1,1,1,1,1,1,1,1,1,1,1,1,1,1,1,1,1,1,1,1,1,1,1,1,1,1,1,1,1,1,1,1,1,1,1,1,1,1,1,1,1,1,1,1,1,1,1,1,1,1,1,1,1,1,1,1,1,1,1,1,1,1,1,1,1,1,1,1,1,1,1,1,1,1,1,1,1,1,1],\"coloraxis\":\"coloraxis\",\"symbol\":\"circle\"},\"mode\":\"markers\",\"name\":\"\",\"scene\":\"scene\",\"showlegend\":false,\"x\":[0.0,0.029501679655916768,0.042588726599506965,0.042588726599506965,0.05484600654454469,0.05484600654454469,0.07738519336316252,0.07738519336316252,0.07738519336316252,0.07738519336316252,0.07738519336316252,0.07738519336316252,0.08785014532675084,0.08785014532675084,0.09786874597410194,0.10749233015853649,0.11676313197336641,0.11676313197336641,0.12571639096778742,0.12571639096778742,0.13438187083764885,0.16662515454343885,0.16662515454343885,0.18154051843327218,0.18874411989346834,0.18874411989346834,0.19579259191516057,0.2094606613377314,0.2094606613377314,0.2094606613377314,0.21609638449097024,0.22260944357406987,0.22260944357406987,0.2290062224973758,0.2290062224973758,0.23529257280283156,0.23529257280283156,0.23529257280283156,0.23529257280283156,0.23529257280283156,0.24147387368397266,0.2475550835865204,0.253540784788547,0.253540784788547,0.253540784788547,0.2652423365527602,0.28217519249266176,0.2930881767797281,0.29844041458868675,0.30372649841930366,0.30894875652466136,0.30894875652466136,0.30894875652466136,0.3141093844482048,0.31921045535434317,0.3438875518323413,0.3627321458613998,0.3627321458613998,0.36733041756325535,0.38530771021609056,0.3897034043419691,0.3897034043419691,0.3897034043419691,0.3940616201492242,0.4026692459660909,0.4069203812006468,0.4111374924341857,0.4111374924341857,0.41532136139597653,0.4194727404975516,0.4235923543456951,0.43576746243389064,0.43976675287473566,0.43976675287473566,0.4437375304789184,0.4437375304789184,0.44768037977043473,0.44768037977043473,0.44768037977043473,0.44768037977043473,0.45159586568207183,0.45548453446036086,0.4593469145175551,0.46318351723437146,0.46318351723437146,0.46699483771692474,0.46699483771692474,0.46699483771692474,0.46699483771692474,0.46699483771692474,0.4707813555110097,0.4707813555110097,0.47828182742541947,0.47828182742541947,0.4819966687234961,0.4819966687234961,0.4819966687234961,0.48935768099671517,0.48935768099671517,0.4930046622611319,0.4966298142506007,0.4966298142506007,0.4966298142506007,0.4966298142506007,0.4966298142506007,0.5002335134834023,0.5002335134834023,0.5002335134834023,0.5002335134834023,0.5002335134834023,0.5073780069671386,0.5073780069671386,0.5073780069671386,0.5073780069671386,0.5109195026947868,0.5109195026947868,0.5214249960033663,0.5214249960033663,0.5214249960033663,0.524888224515286,0.524888224515286,0.524888224515286,0.524888224515286,0.524888224515286,0.5283326618106211,0.5317586020122043,0.541928269624231,0.55524545061857,0.55524545061857,0.5585331498142398,0.5618046890314987,0.5650602976257647,0.5650602976257647,0.5650602976257647,0.5650602976257647,0.5650602976257647,0.5650602976257647,0.5683001996086762,0.5683001996086762,0.5683001996086762,0.5715246138203693,0.5715246138203693,0.5715246138203693,0.5747337540946905,0.5779278294176907,0.5811070440797378,0.5811070440797378,0.5842715978215526,0.5842715978215526,0.5905574995951712,0.5905574995951712,0.5967870468656263,0.5998811423964429,0.6029616873921539,0.6060288533824669,0.6060288533824669,0.6060288533824669,0.6060288533824669,0.6090828083290749,0.6090828083290749,0.6090828083290749,0.6090828083290749,0.615151739710891,0.6241600589463998,0.633057906345949,0.6359999794987018,0.6476525389324999,0.6505374003916552,0.6647982585219606,0.6787973521760136,0.6787973521760136,0.6815669704505595,0.6815669704505595,0.6815669704505595,0.6815669704505595,0.6815669704505595,0.6843267655593804,0.6843267655593804,0.6843267655593804,0.6843267655593804,0.6870768383648393,0.692548212032781,0.7033785452929797,0.7246096753573682,0.7453032116149657,0.7478540380408708,0.7503971303220658,0.7503971303220658,0.7503971303220658,0.7554603832823866,0.7554603832823866,0.7554603832823866,0.7579806769383262,0.7704713921538437,0.7704713921538437,0.7704713921538437,0.7827831561566094,0.7852246835732049,0.7852246835732049,0.7852246835732049,0.7852246835732049,0.7852246835732049,0.7852246835732049,0.7876594012232417,0.7876594012232417,0.7876594012232417,0.7876594012232417,0.7876594012232417,0.7876594012232417,0.7876594012232417,0.7900873641715371,0.7997327448415759,0.7997327448415759,0.802127735037113,0.8045162859731896,0.8068984478519767,0.8092742702304527,0.8092742702304527,0.8116438020319252,0.8116438020319252,0.8140070915572885,0.8187151339369616,0.8210599803787795,0.8210599803787795,0.8303792660426,0.8303792660426,0.8303792660426,0.8326942850207564,0.8350034701587057,0.8350034701587057,0.8350034701587057,0.8373068640994971,0.8396045089721836,0.8396045089721836,0.8396045089721836,0.8396045089721836,0.8396045089721836,0.8418964464004326,0.8418964464004326,0.8441827175109524,0.8464633629417383,0.8464633629417383,0.8464633629417383,0.848738422850145,0.848738422850145,0.848738422850145,0.8510079369207877,0.8510079369207877,0.8510079369207877,0.8510079369207877,0.8510079369207877,0.8532719443732784,0.8532719443732784,0.8532719443732784,0.8532719443732784,0.8555304839697982,0.864510723440775,0.8865965923887831,0.8865965923887831,0.8887774760000141,0.8931245624512401,0.8931245624512401,0.8974522861967087,0.9017608964849029,0.9017608964849029,0.9081885064808863,0.9103217474797771,0.9166939906601244,0.9166939906601244,0.9166939906601244,0.9166939906601244,0.9166939906601244,0.918809006730861,0.918809006730861,0.918809006730861,0.918809006730861,0.918809006730861,0.9209195370513362,0.9209195370513362,0.9209195370513362,0.9230256092387904,0.9293173489903164,0.9293173489903164,0.9293173489903164,0.9293173489903164,0.9293173489903164,0.9293173489903164,0.9293173489903164,0.9417840639684181,0.9417840639684181,0.9438470139516902,0.945905791910767,0.945905791910767,0.9702943949843373,0.9702943949843373,0.9723010825217537,0.9862412948639292,0.9901905727894484,1.0,0.7193538739553882,0.2766090159399289,0.07738519336316252,0.19579259191516057,0.34866903393017745,0.43173905407917074,0.7193538739553882,0.7193538739553882,0.43976675287473566,0.6211697576841994,0.6418491401668507,0.19579259191516057,0.524888224515286,0.24147387368397266,0.7997327448415759,0.2930881767797281,0.13438187083764885,0.7654970046308411,0.24147387368397266,0.16662515454343885,0.3534027268535421,0.3141093844482048,0.4707813555110097,0.6301039890345372,0.2930881767797281,0.7503971303220658,0.2290062224973758,0.6562740722017896,0.11676313197336641,0.07738519336316252,0.5283326618106211,0.47828182742541947,0.15888878373347942,0.4194727404975516,0.5283326618106211,0.5650602976257647,0.18874411989346834,0.19579259191516057,0.22260944357406987,0.6241600589463998,0.2652423365527602,0.46318351723437146,0.4707813555110097,0.2290062224973758,0.541928269624231,0.23529257280283156,0.2094606613377314,0.33417541151223423,0.18154051843327218,0.2652423365527602,0.8303792660426,0.3292416619070576,0.5998811423964429,0.30894875652466136,0.3390568465922884,0.2290062224973758,0.6898172880248401,0.3292416619070576,0.615151739710891,0.15094760923940365,0.7033785452929797,0.4111374924341857,0.05484600654454469,0.6505374003916552,0.5874216859744658,0.38087358264835103,0.042588726599506965,0.5073780069671386,0.41532136139597653,0.45159586568207183,0.11676313197336641,0.042588726599506965,0.23529257280283156,0.5002335134834023,0.4966298142506007,0.25943522209262826,0.47828182742541947,0.20269528765560063,0.6121237167284546,0.3438875518323413,0.55524545061857,0.11676313197336641,0.23529257280283156,0.34866903393017745,0.7679878068831741,0.23529257280283156,0.6181670351358992,0.5109195026947868,0.6704285232933319,0.6704285232933319,0.34866903393017745,0.6476525389324999,0.2290062224973758,0.7604935024422108,0.23529257280283156,0.43976675287473566,0.5351663316925961,0.5715246138203693,0.6815669704505595,0.5842715978215526,0.30372649841930366,0.21609638449097024,0.14278497917085692,0.14278497917085692,0.22260944357406987,0.2930881767797281,0.10749233015853649],\"y\":[0.7376760691079551,0.4895810962038186,0.5757621663021545,0.7376760691079551,0.8452792956359276,0.7723257412935344,0.5355410595083147,0.4895810962038186,0.6424959882702446,1.0,0.9242419918108382,0.3755215964457921,0.4895810962038186,0.4895810962038186,0.4367282076386616,0.5757621663021545,0.3755215964457921,0.30409012524404433,0.4367282076386616,0.7376760691079551,0.5757621663021545,0.6703568646653761,0.3755215964457921,0.30409012524404433,0.7238215645135277,0.7376760691079551,0.4367282076386616,0.5757621663021545,0.9690637114736601,0.5355410595083147,0.7238215645135277,0.8703113407364071,0.4367282076386616,0.5355410595083147,0.4367282076386616,0.9016522165866641,0.4367282076386616,0.4367282076386616,0.800994640681531,0.8703113407364071,0.7238215645135277,0.5355410595083147,0.5355410595083147,0.4367282076386616,0.4895810962038186,0.7376760691079551,0.3755215964457921,0.12006909661082044,0.9380672333649227,0.4367282076386616,0.4367282076386616,0.6111660476675773,0.9819279455489895,0.4367282076386616,0.7873166562723767,0.7558471787173158,0.8452792956359276,0.12006909661082044,0.4895810962038186,0.5757621663021545,0.4367282076386616,0.800994640681531,0.4895810962038186,0.4367282076386616,0.5268413574201187,0.8625918046165675,0.5757621663021545,0.4367282076386616,0.5355410595083147,0.7238215645135277,0.30409012524404433,0.3755215964457921,0.4367282076386616,0.5757621663021545,0.5355410595083147,0.2200053479921617,0.30409012524404433,0.5355410595083147,0.12006909661082044,0.3755215964457921,0.6952450134461754,0.5268413574201187,0.8249899118415819,0.7175708324106597,0.4367282076386616,0.2200053479921617,0.4895810962038186,0.30409012524404433,0.2200053479921617,0.4895810962038186,0.30409012524404433,0.4367282076386616,0.5268413574201187,0.6952450134461754,0.2200053479921617,0.4367282076386616,0.5757621663021545,0.4895810962038186,0.5355410595083147,0.4895810962038186,0.4895810962038186,0.5268413574201187,0.4895810962038186,0.4367282076386616,0.800994640681531,0.6952450134461754,0.5757621663021545,0.3755215964457921,0.4895810962038186,0.5757621663021545,0.5355410595083147,0.5355410595083147,0.6703568646653761,0.5757621663021545,0.5355410595083147,0.4367282076386616,0.2200053479921617,0.884163804337532,0.3755215964457921,0.7238215645135277,0.6424959882702446,0.4367282076386616,0.26380817695203684,0.3755215964457921,0.9115356817510922,0.5757621663021545,0.7723257412935344,0.30409012524404433,0.2200053479921617,0.8962096685479564,0.2200053479921617,0.9734848088080161,0.5268413574201187,0.5757621663021545,0.5268413574201187,0.5268413574201187,0.3755215964457921,0.7723257412935344,0.4367282076386616,0.30409012524404433,0.4895810962038186,0.3755215964457921,0.3755215964457921,0.3755215964457921,0.6952450134461754,0.2200053479921617,0.2200053479921617,0.4367282076386616,0.7238215645135277,0.3755215964457921,0.8249899118415819,0.3755215964457921,0.3755215964457921,0.5268413574201187,0.30409012524404433,0.6952450134461754,0.6111660476675773,0.4367282076386616,0.5757621663021545,0.4895810962038186,0.5355410595083147,0.30409012524404433,0.3755215964457921,0.3755215964457921,0.4895810962038186,0.5757621663021545,0.2200053479921617,0.8135094211765366,0.4367282076386616,0.30409012524404433,0.6424959882702446,0.3755215964457921,0.4895810962038186,0.30409012524404433,0.3755215964457921,0.4367282076386616,0.4367282076386616,0.4367282076386616,0.5355410595083147,0.2200053479921617,0.3755215964457921,0.4367282076386616,0.5355410595083147,0.8249899118415819,0.5355410595083147,0.6424959882702446,0.12006909661082044,0.7723257412935344,0.4367282076386616,0.3755215964457921,0.7723257412935344,0.6424959882702446,0.2200053479921617,0.5268413574201187,0.6703568646653761,0.7175708324106597,0.5268413574201187,0.30409012524404433,0.4367282076386616,0.7175708324106597,0.2200053479921617,0.4367282076386616,0.3755215964457921,0.9016522165866641,0.2200053479921617,0.4367282076386616,0.30409012524404433,0.3755215964457921,0.4367282076386616,0.30409012524404433,0.4367282076386616,0.30409012524404433,0.6111660476675773,0.6703568646653761,0.30409012524404433,0.5757621663021545,0.3755215964457921,0.9980861347661855,0.4895810962038186,0.2200053479921617,0.7238215645135277,0.4895810962038186,0.4895810962038186,0.30409012524404433,0.4367282076386616,0.6111660476675773,0.5757621663021545,0.4367282076386616,0.9539507415582907,0.5355410595083147,0.6952450134461754,0.4895810962038186,0.3755215964457921,0.6111660476675773,0.4895810962038186,0.4895810962038186,0.4895810962038186,0.5355410595083147,0.4367282076386616,0.5268413574201187,0.5757621663021545,0.5757621663021545,0.4895810962038186,0.3755215964457921,0.7175708324106597,0.6111660476675773,0.4895810962038186,0.8135094211765366,0.4367282076386616,0.5355410595083147,0.0,0.30409012524404433,0.4367282076386616,0.5355410595083147,0.4367282076386616,0.4367282076386616,0.6952450134461754,0.4367282076386616,0.30409012524404433,0.2200053479921617,0.4367282076386616,0.2200053479921617,0.6111660476675773,0.4367282076386616,0.5355410595083147,0.3755215964457921,0.7238215645135277,0.6952450134461754,0.3755215964457921,0.4367282076386616,0.6703568646653761,0.3755215964457921,0.5355410595083147,0.2200053479921617,0.4367282076386616,0.30409012524404433,0.4895810962038186,0.4895810962038186,0.2200053479921617,0.5757621663021545,0.4367282076386616,0.8452792956359276,0.9160305794622243,0.4895810962038186,0.30409012524404433,0.5355410595083147,0.6952450134461754,0.4367282076386616,0.4895810962038186,0.3755215964457921,0.30409012524404433,0.6111660476675773,0.4367282076386616,0.3755215964457921,0.4895810962038186,0.5355410595083147,0.30409012524404433,0.6111660476675773,0.6703568646653761,0.5599201387124476,0.8491508000216332,0.3755215964457921,0.930979093752275,0.6670358815646664,0.8443549938797857,0.741687116722678,0.7097073106843718,0.8113211378857623,0.5319040351053006,0.8474119741075097,0.6072596575836476,0.7141420000064309,0.46905151205863405,0.7269259319836858,0.6906511298762703,0.4218057958562506,0.6809572369681675,0.8946161258967458,0.6203414380677283,0.4367282076386616,0.5231353092397052,0.7850084185986262,0.5806301447922864,0.34573132637777226,0.7712009641280392,0.4384159220563806,0.7105944995596503,0.5990614468287573,0.9308420353162288,0.7426377487125118,0.7238215645135277,0.7284014983015213,0.6867555616296366,0.828683420400934,0.5301948158442,0.4903653070448265,0.9249684213773511,0.6841332410129444,0.5862483492672756,0.9117898549079567,0.735552425898534,0.6640017512906969,0.8677663109182256,0.6368171698533835,0.5502194851317295,0.5780127798939448,0.7077775781682726,0.7126488446717048,0.9097551394845165,0.6016117521219058,0.4367282076386616,0.6315813861630538,0.6919022895366279,0.790723648457558,0.45920998444660877,0.1502895748432645,0.4367282076386616,0.8227062739344173,0.7013791065170367,0.7892337063912757,0.5732056608785572,0.5209073519362234,0.582244888289175,0.707576948750637,0.6433358055512527,0.7643478195391116,0.7238215645135277,0.7238215645135277,0.4895810962038186,0.5323030638663693,0.7465467749959562,0.8388326235053238,0.5280995864050065,0.5545262253534369,0.5595786938921452,0.8832384535322223,0.5552458659413242,0.7011032297245101,0.5266746366091959,0.7238215645135277,0.5359376485915975,0.71730861406903,0.5495728085642834,0.6898673779033534,0.612563021136092,0.7902796566632941,0.8524014786506131,0.5355410595083147,0.7270161408723324,0.7238215645135277,0.7766662639058562,0.4367282076386616,0.6674523703899462,0.8640812440910186,0.5308417354589473,0.9042483039498653,0.7238215645135277,0.6247058179954141,0.5773985863539007,0.5161714811774476,0.7238215645135277,0.5270851575062978,0.8567042632755199,0.4367282076386616,0.4929720819141939,0.4653614754487244],\"z\":[0.1659864061263871,0.5122126199076319,0.1659864061263871,0.1659864061263871,0.1659864061263871,0.5427037273666839,0.030717568786814364,0.7996197666999532,0.8538076511558202,0.4642321831457405,0.5122126199076319,0.27916925557035943,0.37724070391692005,0.5122126199076319,0.37724070391692005,0.680533335672516,0.5122126199076319,0.0,0.27916925557035943,0.7420434157648171,0.27916925557035943,0.37724070391692005,0.4642321831457405,0.7996197666999532,0.37724070391692005,0.5122126199076319,0.5427037273666839,0.614391801679078,0.5122126199076319,0.37724070391692005,0.5122126199076319,0.614391801679078,0.4642321831457405,0.37724070391692005,0.680533335672516,0.4642321831457405,0.680533335672516,0.680533335672516,0.37724070391692005,0.5122126199076319,0.1659864061263871,0.37724070391692005,0.614391801679078,0.680533335672516,0.7996197666999532,0.5122126199076319,0.27916925557035943,0.5122126199076319,0.1659864061263871,0.37724070391692005,0.27916925557035943,0.1659864061263871,0.8216750635033508,0.680533335672516,0.5122126199076319,0.37724070391692005,0.4642321831457405,0.5427037273666839,0.1659864061263871,0.1659864061263871,0.27916925557035943,0.5427037273666839,0.4642321831457405,0.4642321831457405,1.0000000000000002,0.1659864061263871,0.030717568786814364,0.27916925557035943,0.27916925557035943,0.27916925557035943,0.5427037273666839,0.4642321831457405,0.4642321831457405,0.680533335672516,0.1659864061263871,0.1659864061263871,0.7996197666999532,0.5427037273666839,0.5122126199076319,0.614391801679078,0.5427037273666839,0.680533335672516,0.27916925557035943,0.680533335672516,0.27916925557035943,0.680533335672516,0.4642321831457405,0.7996197666999532,0.5427037273666839,0.27916925557035943,0.614391801679078,0.614391801679078,0.7996197666999532,0.27916925557035943,0.5122126199076319,0.7996197666999532,0.27916925557035943,0.7996197666999532,0.27916925557035943,0.5427037273666839,0.27916925557035943,0.614391801679078,0.27916925557035943,0.37724070391692005,0.680533335672516,0.37724070391692005,0.614391801679078,0.4642321831457405,0.5122126199076319,0.4642321831457405,0.7996197666999532,0.4642321831457405,0.27916925557035943,0.7996197666999532,0.5427037273666839,0.5427037273666839,0.7996197666999532,0.7996197666999532,0.7996197666999532,0.5122126199076319,0.7996197666999532,0.5122126199076319,0.5122126199076319,0.37724070391692005,0.5427037273666839,0.680533335672516,0.08812943859238087,0.7996197666999532,0.37724070391692005,0.4642321831457405,0.7996197666999532,0.614391801679078,0.5427037273666839,0.7996197666999532,0.4642321831457405,0.5427037273666839,0.7996197666999532,0.27916925557035943,0.4642321831457405,0.37724070391692005,0.5122126199076319,0.4642321831457405,0.37724070391692005,0.5427037273666839,0.27916925557035943,0.37724070391692005,0.37724070391692005,0.7996197666999532,0.37724070391692005,0.4642321831457405,0.614391801679078,0.7996197666999532,0.614391801679078,0.4642321831457405,0.4642321831457405,0.27916925557035943,0.4642321831457405,0.27916925557035943,0.680533335672516,0.614391801679078,0.5427037273666839,0.4642321831457405,0.5427037273666839,0.4642321831457405,0.37724070391692005,0.5122126199076319,0.7996197666999532,0.1659864061263871,0.5427037273666839,0.4642321831457405,0.4642321831457405,0.5427037273666839,0.7996197666999532,0.1659864061263871,0.4642321831457405,0.7996197666999532,0.5427037273666839,0.680533335672516,0.7996197666999532,0.5427037273666839,0.37724070391692005,0.27916925557035943,0.27916925557035943,0.5122126199076319,0.27916925557035943,0.37724070391692005,0.680533335672516,0.27916925557035943,0.5427037273666839,0.614391801679078,0.4642321831457405,0.7996197666999532,0.5427037273666839,0.37724070391692005,0.1659864061263871,0.614391801679078,0.5122126199076319,0.37724070391692005,0.1659864061263871,0.4642321831457405,0.614391801679078,0.7996197666999532,0.7996197666999532,0.27916925557035943,0.5427037273666839,0.614391801679078,0.5427037273666839,0.5122126199076319,0.5427037273666839,0.4642321831457405,0.08812943859238087,0.8216750635033508,0.680533335672516,0.37724070391692005,0.4642321831457405,0.4642321831457405,0.680533335672516,0.9050420122815441,0.4642321831457405,0.4642321831457405,0.1659864061263871,0.680533335672516,0.4642321831457405,0.27916925557035943,0.27916925557035943,0.7996197666999532,0.27916925557035943,0.4642321831457405,0.27916925557035943,0.27916925557035943,0.37724070391692005,0.4642321831457405,0.4642321831457405,0.5122126199076319,0.614391801679078,0.680533335672516,0.680533335672516,0.37724070391692005,0.5427037273666839,0.614391801679078,0.4642321831457405,0.37724070391692005,0.4642321831457405,0.5427037273666839,0.5122126199076319,0.5122126199076319,0.27916925557035943,0.27916925557035943,0.4642321831457405,0.5427037273666839,0.37724070391692005,0.4642321831457405,0.614391801679078,0.4642321831457405,0.7996197666999532,0.37724070391692005,0.5122126199076319,0.5122126199076319,0.27916925557035943,0.680533335672516,0.5427037273666839,0.5427037273666839,0.27916925557035943,0.7996197666999532,0.5122126199076319,0.4642321831457405,0.1659864061263871,0.5122126199076319,0.5122126199076319,0.4642321831457405,0.37724070391692005,0.5427037273666839,0.5122126199076319,0.5427037273666839,0.37724070391692005,0.5122126199076319,0.4642321831457405,0.5122126199076319,0.37724070391692005,0.5122126199076319,0.5427037273666839,0.5427037273666839,0.37724070391692005,0.5122126199076319,0.5427037273666839,0.5427037273666839,0.4642321831457405,0.7420434157648171,0.4642321831457405,0.5122126199076319,0.7420434157648171,0.4642321831457405,0.5122126199076319,0.4642321831457405,0.5122126199076319,0.5122126199076319,0.7996197666999532,0.5122126199076319,0.614391801679078,0.37724070391692005,0.6414569102152072,0.27916925557035943,0.5122126199076319,0.4131997168168173,0.5427037273666839,0.27916925557035943,0.3586148148873363,0.27916925557035943,0.4642321831457405,0.49653193247284505,0.5864427540410133,0.5122126199076319,0.7420434157648171,0.3199411980510646,0.4305780597592666,0.4805433268530462,0.4131997168168173,0.11508105480675113,0.395427812069419,0.3199411980510646,0.27916925557035943,0.3586148148873363,0.37724070391692005,0.4131997168168173,0.5721148839809406,0.680533335672516,0.5275989917163317,0.4131997168168173,0.49653193247284505,0.33952438723380307,0.1659864061263871,0.4805433268530462,0.6414569102152072,0.1659864061263871,0.5122126199076319,0.5427037273666839,0.680533335672516,0.1659864061263871,0.37724070391692005,0.4642321831457405,0.4305780597592666,0.25790841612958487,0.614391801679078,0.5427037273666839,0.654677985888038,0.6005320111095526,0.395427812069419,0.4642321831457405,0.27916925557035943,0.33952438723380307,0.6280307318950715,0.2998342254966565,0.5122126199076319,0.4805433268530462,0.654677985888038,0.6005320111095526,0.395427812069419,0.1659864061263871,0.5427037273666839,0.21342590354700747,0.19010460783446875,0.11508105480675113,0.2998342254966565,0.4131997168168173,0.23600962116904856,0.4642321831457405,0.4805433268530462,0.1659864061263871,0.5122126199076319,0.7538540591409133,0.25790841612958487,0.614391801679078,0.5122126199076319,0.3199411980510646,0.030717568786814364,0.5427037273666839,0.5864427540410133,0.1659864061263871,0.2998342254966565,0.4805433268530462,0.030717568786814364,0.614391801679078,0.1659864061263871,0.23600962116904856,0.6414569102152072,0.1659864061263871,0.5721148839809406,0.25790841612958487,0.37724070391692005,0.27916925557035943,0.4305780597592666,0.6280307318950715,0.1659864061263871,0.37724070391692005,0.1659864061263871,0.5275989917163317,0.395427812069419,0.33952438723380307,0.33952438723380307,0.2998342254966565,0.37724070391692005,0.5427037273666839,0.3199411980510646,0.5575386666870156,0.6414569102152072,0.49653193247284505],\"type\":\"scatter3d\"}],                        {\"template\":{\"data\":{\"bar\":[{\"error_x\":{\"color\":\"#2a3f5f\"},\"error_y\":{\"color\":\"#2a3f5f\"},\"marker\":{\"line\":{\"color\":\"#E5ECF6\",\"width\":0.5},\"pattern\":{\"fillmode\":\"overlay\",\"size\":10,\"solidity\":0.2}},\"type\":\"bar\"}],\"barpolar\":[{\"marker\":{\"line\":{\"color\":\"#E5ECF6\",\"width\":0.5},\"pattern\":{\"fillmode\":\"overlay\",\"size\":10,\"solidity\":0.2}},\"type\":\"barpolar\"}],\"carpet\":[{\"aaxis\":{\"endlinecolor\":\"#2a3f5f\",\"gridcolor\":\"white\",\"linecolor\":\"white\",\"minorgridcolor\":\"white\",\"startlinecolor\":\"#2a3f5f\"},\"baxis\":{\"endlinecolor\":\"#2a3f5f\",\"gridcolor\":\"white\",\"linecolor\":\"white\",\"minorgridcolor\":\"white\",\"startlinecolor\":\"#2a3f5f\"},\"type\":\"carpet\"}],\"choropleth\":[{\"colorbar\":{\"outlinewidth\":0,\"ticks\":\"\"},\"type\":\"choropleth\"}],\"contour\":[{\"colorbar\":{\"outlinewidth\":0,\"ticks\":\"\"},\"colorscale\":[[0.0,\"#0d0887\"],[0.1111111111111111,\"#46039f\"],[0.2222222222222222,\"#7201a8\"],[0.3333333333333333,\"#9c179e\"],[0.4444444444444444,\"#bd3786\"],[0.5555555555555556,\"#d8576b\"],[0.6666666666666666,\"#ed7953\"],[0.7777777777777778,\"#fb9f3a\"],[0.8888888888888888,\"#fdca26\"],[1.0,\"#f0f921\"]],\"type\":\"contour\"}],\"contourcarpet\":[{\"colorbar\":{\"outlinewidth\":0,\"ticks\":\"\"},\"type\":\"contourcarpet\"}],\"heatmap\":[{\"colorbar\":{\"outlinewidth\":0,\"ticks\":\"\"},\"colorscale\":[[0.0,\"#0d0887\"],[0.1111111111111111,\"#46039f\"],[0.2222222222222222,\"#7201a8\"],[0.3333333333333333,\"#9c179e\"],[0.4444444444444444,\"#bd3786\"],[0.5555555555555556,\"#d8576b\"],[0.6666666666666666,\"#ed7953\"],[0.7777777777777778,\"#fb9f3a\"],[0.8888888888888888,\"#fdca26\"],[1.0,\"#f0f921\"]],\"type\":\"heatmap\"}],\"heatmapgl\":[{\"colorbar\":{\"outlinewidth\":0,\"ticks\":\"\"},\"colorscale\":[[0.0,\"#0d0887\"],[0.1111111111111111,\"#46039f\"],[0.2222222222222222,\"#7201a8\"],[0.3333333333333333,\"#9c179e\"],[0.4444444444444444,\"#bd3786\"],[0.5555555555555556,\"#d8576b\"],[0.6666666666666666,\"#ed7953\"],[0.7777777777777778,\"#fb9f3a\"],[0.8888888888888888,\"#fdca26\"],[1.0,\"#f0f921\"]],\"type\":\"heatmapgl\"}],\"histogram\":[{\"marker\":{\"pattern\":{\"fillmode\":\"overlay\",\"size\":10,\"solidity\":0.2}},\"type\":\"histogram\"}],\"histogram2d\":[{\"colorbar\":{\"outlinewidth\":0,\"ticks\":\"\"},\"colorscale\":[[0.0,\"#0d0887\"],[0.1111111111111111,\"#46039f\"],[0.2222222222222222,\"#7201a8\"],[0.3333333333333333,\"#9c179e\"],[0.4444444444444444,\"#bd3786\"],[0.5555555555555556,\"#d8576b\"],[0.6666666666666666,\"#ed7953\"],[0.7777777777777778,\"#fb9f3a\"],[0.8888888888888888,\"#fdca26\"],[1.0,\"#f0f921\"]],\"type\":\"histogram2d\"}],\"histogram2dcontour\":[{\"colorbar\":{\"outlinewidth\":0,\"ticks\":\"\"},\"colorscale\":[[0.0,\"#0d0887\"],[0.1111111111111111,\"#46039f\"],[0.2222222222222222,\"#7201a8\"],[0.3333333333333333,\"#9c179e\"],[0.4444444444444444,\"#bd3786\"],[0.5555555555555556,\"#d8576b\"],[0.6666666666666666,\"#ed7953\"],[0.7777777777777778,\"#fb9f3a\"],[0.8888888888888888,\"#fdca26\"],[1.0,\"#f0f921\"]],\"type\":\"histogram2dcontour\"}],\"mesh3d\":[{\"colorbar\":{\"outlinewidth\":0,\"ticks\":\"\"},\"type\":\"mesh3d\"}],\"parcoords\":[{\"line\":{\"colorbar\":{\"outlinewidth\":0,\"ticks\":\"\"}},\"type\":\"parcoords\"}],\"pie\":[{\"automargin\":true,\"type\":\"pie\"}],\"scatter\":[{\"marker\":{\"colorbar\":{\"outlinewidth\":0,\"ticks\":\"\"}},\"type\":\"scatter\"}],\"scatter3d\":[{\"line\":{\"colorbar\":{\"outlinewidth\":0,\"ticks\":\"\"}},\"marker\":{\"colorbar\":{\"outlinewidth\":0,\"ticks\":\"\"}},\"type\":\"scatter3d\"}],\"scattercarpet\":[{\"marker\":{\"colorbar\":{\"outlinewidth\":0,\"ticks\":\"\"}},\"type\":\"scattercarpet\"}],\"scattergeo\":[{\"marker\":{\"colorbar\":{\"outlinewidth\":0,\"ticks\":\"\"}},\"type\":\"scattergeo\"}],\"scattergl\":[{\"marker\":{\"colorbar\":{\"outlinewidth\":0,\"ticks\":\"\"}},\"type\":\"scattergl\"}],\"scattermapbox\":[{\"marker\":{\"colorbar\":{\"outlinewidth\":0,\"ticks\":\"\"}},\"type\":\"scattermapbox\"}],\"scatterpolar\":[{\"marker\":{\"colorbar\":{\"outlinewidth\":0,\"ticks\":\"\"}},\"type\":\"scatterpolar\"}],\"scatterpolargl\":[{\"marker\":{\"colorbar\":{\"outlinewidth\":0,\"ticks\":\"\"}},\"type\":\"scatterpolargl\"}],\"scatterternary\":[{\"marker\":{\"colorbar\":{\"outlinewidth\":0,\"ticks\":\"\"}},\"type\":\"scatterternary\"}],\"surface\":[{\"colorbar\":{\"outlinewidth\":0,\"ticks\":\"\"},\"colorscale\":[[0.0,\"#0d0887\"],[0.1111111111111111,\"#46039f\"],[0.2222222222222222,\"#7201a8\"],[0.3333333333333333,\"#9c179e\"],[0.4444444444444444,\"#bd3786\"],[0.5555555555555556,\"#d8576b\"],[0.6666666666666666,\"#ed7953\"],[0.7777777777777778,\"#fb9f3a\"],[0.8888888888888888,\"#fdca26\"],[1.0,\"#f0f921\"]],\"type\":\"surface\"}],\"table\":[{\"cells\":{\"fill\":{\"color\":\"#EBF0F8\"},\"line\":{\"color\":\"white\"}},\"header\":{\"fill\":{\"color\":\"#C8D4E3\"},\"line\":{\"color\":\"white\"}},\"type\":\"table\"}]},\"layout\":{\"annotationdefaults\":{\"arrowcolor\":\"#2a3f5f\",\"arrowhead\":0,\"arrowwidth\":1},\"autotypenumbers\":\"strict\",\"coloraxis\":{\"colorbar\":{\"outlinewidth\":0,\"ticks\":\"\"}},\"colorscale\":{\"diverging\":[[0,\"#8e0152\"],[0.1,\"#c51b7d\"],[0.2,\"#de77ae\"],[0.3,\"#f1b6da\"],[0.4,\"#fde0ef\"],[0.5,\"#f7f7f7\"],[0.6,\"#e6f5d0\"],[0.7,\"#b8e186\"],[0.8,\"#7fbc41\"],[0.9,\"#4d9221\"],[1,\"#276419\"]],\"sequential\":[[0.0,\"#0d0887\"],[0.1111111111111111,\"#46039f\"],[0.2222222222222222,\"#7201a8\"],[0.3333333333333333,\"#9c179e\"],[0.4444444444444444,\"#bd3786\"],[0.5555555555555556,\"#d8576b\"],[0.6666666666666666,\"#ed7953\"],[0.7777777777777778,\"#fb9f3a\"],[0.8888888888888888,\"#fdca26\"],[1.0,\"#f0f921\"]],\"sequentialminus\":[[0.0,\"#0d0887\"],[0.1111111111111111,\"#46039f\"],[0.2222222222222222,\"#7201a8\"],[0.3333333333333333,\"#9c179e\"],[0.4444444444444444,\"#bd3786\"],[0.5555555555555556,\"#d8576b\"],[0.6666666666666666,\"#ed7953\"],[0.7777777777777778,\"#fb9f3a\"],[0.8888888888888888,\"#fdca26\"],[1.0,\"#f0f921\"]]},\"colorway\":[\"#636efa\",\"#EF553B\",\"#00cc96\",\"#ab63fa\",\"#FFA15A\",\"#19d3f3\",\"#FF6692\",\"#B6E880\",\"#FF97FF\",\"#FECB52\"],\"font\":{\"color\":\"#2a3f5f\"},\"geo\":{\"bgcolor\":\"white\",\"lakecolor\":\"white\",\"landcolor\":\"#E5ECF6\",\"showlakes\":true,\"showland\":true,\"subunitcolor\":\"white\"},\"hoverlabel\":{\"align\":\"left\"},\"hovermode\":\"closest\",\"mapbox\":{\"style\":\"light\"},\"paper_bgcolor\":\"white\",\"plot_bgcolor\":\"#E5ECF6\",\"polar\":{\"angularaxis\":{\"gridcolor\":\"white\",\"linecolor\":\"white\",\"ticks\":\"\"},\"bgcolor\":\"#E5ECF6\",\"radialaxis\":{\"gridcolor\":\"white\",\"linecolor\":\"white\",\"ticks\":\"\"}},\"scene\":{\"xaxis\":{\"backgroundcolor\":\"#E5ECF6\",\"gridcolor\":\"white\",\"gridwidth\":2,\"linecolor\":\"white\",\"showbackground\":true,\"ticks\":\"\",\"zerolinecolor\":\"white\"},\"yaxis\":{\"backgroundcolor\":\"#E5ECF6\",\"gridcolor\":\"white\",\"gridwidth\":2,\"linecolor\":\"white\",\"showbackground\":true,\"ticks\":\"\",\"zerolinecolor\":\"white\"},\"zaxis\":{\"backgroundcolor\":\"#E5ECF6\",\"gridcolor\":\"white\",\"gridwidth\":2,\"linecolor\":\"white\",\"showbackground\":true,\"ticks\":\"\",\"zerolinecolor\":\"white\"}},\"shapedefaults\":{\"line\":{\"color\":\"#2a3f5f\"}},\"ternary\":{\"aaxis\":{\"gridcolor\":\"white\",\"linecolor\":\"white\",\"ticks\":\"\"},\"baxis\":{\"gridcolor\":\"white\",\"linecolor\":\"white\",\"ticks\":\"\"},\"bgcolor\":\"#E5ECF6\",\"caxis\":{\"gridcolor\":\"white\",\"linecolor\":\"white\",\"ticks\":\"\"}},\"title\":{\"x\":0.05},\"xaxis\":{\"automargin\":true,\"gridcolor\":\"white\",\"linecolor\":\"white\",\"ticks\":\"\",\"title\":{\"standoff\":15},\"zerolinecolor\":\"white\",\"zerolinewidth\":2},\"yaxis\":{\"automargin\":true,\"gridcolor\":\"white\",\"linecolor\":\"white\",\"ticks\":\"\",\"title\":{\"standoff\":15},\"zerolinecolor\":\"white\",\"zerolinewidth\":2}}},\"scene\":{\"domain\":{\"x\":[0.0,1.0],\"y\":[0.0,1.0]},\"xaxis\":{\"title\":{\"text\":\"time\"}},\"yaxis\":{\"title\":{\"text\":\"serum_creatinine\"}},\"zaxis\":{\"title\":{\"text\":\"ejection_fraction\"}}},\"coloraxis\":{\"colorbar\":{\"title\":{\"text\":\"target\"}},\"colorscale\":[[0.0,\"#0d0887\"],[0.1111111111111111,\"#46039f\"],[0.2222222222222222,\"#7201a8\"],[0.3333333333333333,\"#9c179e\"],[0.4444444444444444,\"#bd3786\"],[0.5555555555555556,\"#d8576b\"],[0.6666666666666666,\"#ed7953\"],[0.7777777777777778,\"#fb9f3a\"],[0.8888888888888888,\"#fdca26\"],[1.0,\"#f0f921\"]]},\"legend\":{\"tracegroupgap\":0},\"margin\":{\"t\":60}},                        {\"responsive\": true}                    ).then(function(){\n",
              "                            \n",
              "var gd = document.getElementById('c6d38cec-5393-4906-9802-2d9022ab2f29');\n",
              "var x = new MutationObserver(function (mutations, observer) {{\n",
              "        var display = window.getComputedStyle(gd).display;\n",
              "        if (!display || display === 'none') {{\n",
              "            console.log([gd, 'removed!']);\n",
              "            Plotly.purge(gd);\n",
              "            observer.disconnect();\n",
              "        }}\n",
              "}});\n",
              "\n",
              "// Listen for the removal of the full notebook cells\n",
              "var notebookContainer = gd.closest('#notebook-container');\n",
              "if (notebookContainer) {{\n",
              "    x.observe(notebookContainer, {childList: true});\n",
              "}}\n",
              "\n",
              "// Listen for the clearing of the current output cell\n",
              "var outputEl = gd.closest('.output');\n",
              "if (outputEl) {{\n",
              "    x.observe(outputEl, {childList: true});\n",
              "}}\n",
              "\n",
              "                        })                };                            </script>        </div>\n",
              "</body>\n",
              "</html>"
            ]
          },
          "metadata": {}
        }
      ],
      "source": [
        "px.scatter_3d(model_data, x='time', y='serum_creatinine', z='ejection_fraction', color='target')"
      ]
    },
    {
      "cell_type": "code",
      "execution_count": 26,
      "id": "d0d298ea",
      "metadata": {
        "execution": {
          "iopub.execute_input": "2022-11-15T02:12:27.643835Z",
          "iopub.status.busy": "2022-11-15T02:12:27.643088Z",
          "iopub.status.idle": "2022-11-15T02:12:27.650786Z",
          "shell.execute_reply": "2022-11-15T02:12:27.650294Z",
          "shell.execute_reply.started": "2021-11-01T11:33:30.683116Z"
        },
        "papermill": {
          "duration": 0.076301,
          "end_time": "2022-11-15T02:12:27.650911",
          "exception": false,
          "start_time": "2022-11-15T02:12:27.574610",
          "status": "completed"
        },
        "tags": [],
        "colab": {
          "base_uri": "https://localhost:8080/"
        },
        "id": "d0d298ea",
        "outputId": "a1b1f1e0-4874-4e5b-f621-4ffa7e8f4ca1"
      },
      "outputs": [
        {
          "output_type": "stream",
          "name": "stdout",
          "text": [
            "(324, 3)\n",
            "(324,)\n",
            "(82, 3)\n",
            "(82,)\n"
          ]
        }
      ],
      "source": [
        "X_train, X_test, y_train, y_test = train_test_split(model_data.drop(['target'], axis=1), \n",
        "                                                    model_data['target'], \n",
        "                                                    test_size=0.20, \n",
        "                                                    random_state=2021, \n",
        "                                                    stratify=model_data['target']\n",
        "                                                   )\n",
        "print(X_train.shape)\n",
        "print(y_train.shape)\n",
        "print(X_test.shape)\n",
        "print(y_test.shape)"
      ]
    },
    {
      "cell_type": "markdown",
      "id": "dda8134a",
      "metadata": {
        "papermill": {
          "duration": 0.061806,
          "end_time": "2022-11-15T02:12:27.776472",
          "exception": false,
          "start_time": "2022-11-15T02:12:27.714666",
          "status": "completed"
        },
        "tags": [],
        "id": "dda8134a"
      },
      "source": [
        "## k-Nearest Neighbor Classifier\n",
        "\n",
        "Mari kita mulai dengan pelajar yang sederhana dan malas di mana suatu objek diklasifikasikan berdasarkan suara pluralitas tetangganya. "
      ]
    },
    {
      "cell_type": "code",
      "execution_count": 27,
      "id": "0de8fd66",
      "metadata": {
        "execution": {
          "iopub.execute_input": "2022-11-15T02:12:27.906366Z",
          "iopub.status.busy": "2022-11-15T02:12:27.905752Z",
          "iopub.status.idle": "2022-11-15T02:12:35.640366Z",
          "shell.execute_reply": "2022-11-15T02:12:35.639857Z",
          "shell.execute_reply.started": "2021-11-01T11:33:30.695731Z"
        },
        "papermill": {
          "duration": 7.801979,
          "end_time": "2022-11-15T02:12:35.640531",
          "exception": false,
          "start_time": "2022-11-15T02:12:27.838552",
          "status": "completed"
        },
        "tags": [],
        "colab": {
          "base_uri": "https://localhost:8080/"
        },
        "id": "0de8fd66",
        "outputId": "e43584e2-6e53-4047-a4de-730923f5f63d"
      },
      "outputs": [
        {
          "output_type": "execute_result",
          "data": {
            "text/plain": [
              "GridSearchCV(cv=10, estimator=KNeighborsClassifier(n_jobs=-1), n_jobs=-1,\n",
              "             param_grid={'n_neighbors': array([ 2,  3,  4,  5,  6,  7,  8,  9, 10, 11])},\n",
              "             scoring='f1')"
            ]
          },
          "metadata": {},
          "execution_count": 27
        }
      ],
      "source": [
        "knn_clf = KNeighborsClassifier(n_jobs=-1)\n",
        "\n",
        "# Penyetelan hiperparameter \n",
        "\n",
        "knn_params = {\n",
        "    'n_neighbors': np.arange(2, 12)\n",
        "}\n",
        "knn_cv = GridSearchCV(knn_clf, knn_params, scoring='f1', n_jobs=-1, cv=10)\n",
        "knn_cv.fit(X_train, y_train)"
      ]
    },
    {
      "cell_type": "markdown",
      "id": "f3dba90e",
      "metadata": {
        "papermill": {
          "duration": 0.061976,
          "end_time": "2022-11-15T02:12:35.764512",
          "exception": false,
          "start_time": "2022-11-15T02:12:35.702536",
          "status": "completed"
        },
        "tags": [],
        "id": "f3dba90e"
      },
      "source": [
        "### Nilai Optimal untuk Memaksimalkan Kinerja\n",
        "\n",
        "Oleh karena itu, skor f1 tertinggi dicapai dengan knn menggunakan 6 tetangga. "
      ]
    },
    {
      "cell_type": "code",
      "execution_count": 28,
      "id": "c446224c",
      "metadata": {
        "execution": {
          "iopub.execute_input": "2022-11-15T02:12:35.892919Z",
          "iopub.status.busy": "2022-11-15T02:12:35.892281Z",
          "iopub.status.idle": "2022-11-15T02:12:35.895049Z",
          "shell.execute_reply": "2022-11-15T02:12:35.895481Z",
          "shell.execute_reply.started": "2021-11-01T11:33:36.121575Z"
        },
        "papermill": {
          "duration": 0.069803,
          "end_time": "2022-11-15T02:12:35.895620",
          "exception": false,
          "start_time": "2022-11-15T02:12:35.825817",
          "status": "completed"
        },
        "tags": [],
        "colab": {
          "base_uri": "https://localhost:8080/"
        },
        "id": "c446224c",
        "outputId": "d2177db6-8209-4c4a-e5e5-dde3872d0bff"
      },
      "outputs": [
        {
          "output_type": "execute_result",
          "data": {
            "text/plain": [
              "{'n_neighbors': 6}"
            ]
          },
          "metadata": {},
          "execution_count": 28
        }
      ],
      "source": [
        "knn_cv.best_params_"
      ]
    },
    {
      "cell_type": "markdown",
      "id": "510a24dc",
      "metadata": {
        "papermill": {
          "duration": 0.061389,
          "end_time": "2022-11-15T02:12:36.018471",
          "exception": false,
          "start_time": "2022-11-15T02:12:35.957082",
          "status": "completed"
        },
        "tags": [],
        "id": "510a24dc"
      },
      "source": [
        "### Prediksi pada data pelatihan menggunakan prediksi lintas Val\n",
        "\n",
        "cross_val_predict() melakukan validasi silang K-fold, tetapi alih-alih mengembalikan skor evaluasi, ia mengembalikan prediksi yang dibuat pada setiap lipatan tes (iterasi). Ini berarti Anda mendapatkan prediksi yang jelas untuk setiap instance dalam set pelatihan. "
      ]
    },
    {
      "cell_type": "code",
      "execution_count": 29,
      "id": "662a6ebe",
      "metadata": {
        "execution": {
          "iopub.execute_input": "2022-11-15T02:12:36.150290Z",
          "iopub.status.busy": "2022-11-15T02:12:36.147033Z",
          "iopub.status.idle": "2022-11-15T02:12:41.700258Z",
          "shell.execute_reply": "2022-11-15T02:12:41.700711Z",
          "shell.execute_reply.started": "2021-11-01T11:33:36.128462Z"
        },
        "papermill": {
          "duration": 5.621073,
          "end_time": "2022-11-15T02:12:41.700877",
          "exception": false,
          "start_time": "2022-11-15T02:12:36.079804",
          "status": "completed"
        },
        "tags": [],
        "colab": {
          "base_uri": "https://localhost:8080/"
        },
        "id": "662a6ebe",
        "outputId": "cc3b7ead-04e3-4fd9-c632-496032288dbf"
      },
      "outputs": [
        {
          "output_type": "execute_result",
          "data": {
            "text/plain": [
              "array([1, 0, 1, 0, 1, 0, 1, 1, 1, 0, 0, 1, 0, 0, 0, 0, 0, 1, 1, 1, 1, 0,\n",
              "       1, 0, 1, 1, 1, 0, 1, 1, 0, 0, 1, 0, 1, 1, 0, 1, 1, 1, 1, 0, 0, 1,\n",
              "       0, 1, 0, 1, 1, 0, 1, 0, 0, 1, 0, 0, 1, 0, 1, 0, 1, 0, 0, 1, 0, 1,\n",
              "       1, 1, 0, 0, 1, 0, 1, 0, 0, 0, 1, 1, 1, 1, 0, 1, 1, 1, 0, 1, 1, 1,\n",
              "       0, 1, 0, 0, 1, 0, 0, 0, 0, 1, 1, 1, 0, 1, 1, 1, 1, 0, 0, 0, 0, 1,\n",
              "       1, 1, 1, 1, 0, 0, 1, 1, 0, 0, 1, 0, 1, 1, 0, 1, 1, 1, 0, 1, 1, 1,\n",
              "       0, 1, 1, 1, 1, 0, 1, 1, 1, 1, 1, 1, 0, 1, 1, 0, 0, 0, 1, 1, 1, 1,\n",
              "       1, 0, 1, 0, 0, 0, 0, 1, 0, 0, 0, 0, 1, 0, 0, 1, 0, 0, 0, 1, 1, 0,\n",
              "       0, 1, 1, 1, 0, 1, 1, 0, 1, 1, 1, 1, 1, 0, 1, 1, 1, 1, 1, 0, 1, 1,\n",
              "       0, 0, 1, 1, 1, 1, 0, 0, 0, 0, 0, 0, 1, 0, 0, 1, 1, 0, 1, 1, 0, 0,\n",
              "       0, 1, 1, 1, 1, 0, 0, 1, 0, 0, 1, 0, 0, 1, 1, 0, 0, 0, 1, 1, 1, 1,\n",
              "       1, 1, 0, 1, 1, 1, 0, 0, 0, 0, 0, 1, 0, 1, 1, 0, 1, 0, 0, 0, 0, 1,\n",
              "       0, 0, 0, 0, 1, 0, 0, 1, 0, 0, 0, 1, 0, 1, 0, 0, 0, 0, 1, 0, 0, 1,\n",
              "       0, 0, 0, 1, 0, 0, 1, 0, 1, 1, 0, 1, 0, 0, 0, 0, 1, 0, 0, 0, 1, 0,\n",
              "       1, 0, 0, 0, 1, 1, 1, 1, 1, 0, 0, 1, 0, 1, 0, 1])"
            ]
          },
          "metadata": {},
          "execution_count": 29
        }
      ],
      "source": [
        "knn_train_pred = cross_val_predict(knn_cv, X_train, y_train, cv=10, n_jobs=-1)\n",
        "knn_train_pred"
      ]
    },
    {
      "cell_type": "markdown",
      "id": "12028971",
      "metadata": {
        "papermill": {
          "duration": 0.060576,
          "end_time": "2022-11-15T02:12:41.824371",
          "exception": false,
          "start_time": "2022-11-15T02:12:41.763795",
          "status": "completed"
        },
        "tags": [],
        "id": "12028971"
      },
      "source": [
        "### Laporan Klasifikasi data pelatihan "
      ]
    },
    {
      "cell_type": "code",
      "execution_count": 30,
      "id": "a173fca2",
      "metadata": {
        "execution": {
          "iopub.execute_input": "2022-11-15T02:12:41.952222Z",
          "iopub.status.busy": "2022-11-15T02:12:41.951356Z",
          "iopub.status.idle": "2022-11-15T02:12:41.958334Z",
          "shell.execute_reply": "2022-11-15T02:12:41.958799Z",
          "shell.execute_reply.started": "2021-11-01T11:33:41.693179Z"
        },
        "papermill": {
          "duration": 0.073524,
          "end_time": "2022-11-15T02:12:41.958943",
          "exception": false,
          "start_time": "2022-11-15T02:12:41.885419",
          "status": "completed"
        },
        "tags": [],
        "colab": {
          "base_uri": "https://localhost:8080/"
        },
        "id": "a173fca2",
        "outputId": "7d93a0da-9998-4bf8-d6ff-132ed9d548e7"
      },
      "outputs": [
        {
          "output_type": "stream",
          "name": "stdout",
          "text": [
            "               precision    recall  f1-score   support\n",
            "\n",
            "not gonna die     0.8662    0.8395    0.8527       162\n",
            "     will die     0.8443    0.8704    0.8571       162\n",
            "\n",
            "     accuracy                         0.8549       324\n",
            "    macro avg     0.8553    0.8549    0.8549       324\n",
            " weighted avg     0.8553    0.8549    0.8549       324\n",
            "\n"
          ]
        }
      ],
      "source": [
        "print(classification_report(y_train, knn_train_pred, digits=4, target_names=['not gonna die', 'will die']))"
      ]
    },
    {
      "cell_type": "markdown",
      "id": "962a2f51",
      "metadata": {
        "papermill": {
          "duration": 0.062426,
          "end_time": "2022-11-15T02:12:42.206615",
          "exception": false,
          "start_time": "2022-11-15T02:12:42.144189",
          "status": "completed"
        },
        "tags": [],
        "id": "962a2f51"
      },
      "source": [
        "## Regresi Logistik\n",
        "\n",
        "Regresi logistik menggunakan fungsi logit untuk menghitung probabilitas hasil, dalam kasus kami, kelas target `` "
      ]
    },
    {
      "cell_type": "code",
      "execution_count": 31,
      "id": "bff6ad6e",
      "metadata": {
        "execution": {
          "iopub.execute_input": "2022-11-15T02:12:42.336203Z",
          "iopub.status.busy": "2022-11-15T02:12:42.335187Z",
          "iopub.status.idle": "2022-11-15T02:12:42.337936Z",
          "shell.execute_reply": "2022-11-15T02:12:42.337513Z",
          "shell.execute_reply.started": "2021-11-01T11:33:41.707259Z"
        },
        "papermill": {
          "duration": 0.070012,
          "end_time": "2022-11-15T02:12:42.338063",
          "exception": false,
          "start_time": "2022-11-15T02:12:42.268051",
          "status": "completed"
        },
        "tags": [],
        "id": "bff6ad6e"
      },
      "outputs": [],
      "source": [
        "lr_clf = LogisticRegression(class_weight='balanced', random_state=2021, n_jobs=-1)"
      ]
    },
    {
      "cell_type": "code",
      "execution_count": 32,
      "id": "c53d70a7",
      "metadata": {
        "execution": {
          "iopub.execute_input": "2022-11-15T02:12:42.478462Z",
          "iopub.status.busy": "2022-11-15T02:12:42.477602Z",
          "iopub.status.idle": "2022-11-15T02:12:47.109577Z",
          "shell.execute_reply": "2022-11-15T02:12:47.110068Z",
          "shell.execute_reply.started": "2021-11-01T11:33:41.713699Z"
        },
        "papermill": {
          "duration": 4.71056,
          "end_time": "2022-11-15T02:12:47.110264",
          "exception": false,
          "start_time": "2022-11-15T02:12:42.399704",
          "status": "completed"
        },
        "tags": [],
        "colab": {
          "base_uri": "https://localhost:8080/"
        },
        "id": "c53d70a7",
        "outputId": "cd76d8ec-e8b2-4cdd-a5e2-723e9fc6729e"
      },
      "outputs": [
        {
          "output_type": "stream",
          "name": "stderr",
          "text": [
            "/usr/local/lib/python3.8/dist-packages/sklearn/model_selection/_validation.py:372: FitFailedWarning:\n",
            "\n",
            "\n",
            "160 fits failed out of a total of 240.\n",
            "The score on these train-test partitions for these parameters will be set to nan.\n",
            "If these failures are not expected, you can try to debug them by setting error_score='raise'.\n",
            "\n",
            "Below are more details about the failures:\n",
            "--------------------------------------------------------------------------------\n",
            "80 fits failed with the following error:\n",
            "Traceback (most recent call last):\n",
            "  File \"/usr/local/lib/python3.8/dist-packages/sklearn/model_selection/_validation.py\", line 680, in _fit_and_score\n",
            "    estimator.fit(X_train, y_train, **fit_params)\n",
            "  File \"/usr/local/lib/python3.8/dist-packages/sklearn/linear_model/_logistic.py\", line 1461, in fit\n",
            "    solver = _check_solver(self.solver, self.penalty, self.dual)\n",
            "  File \"/usr/local/lib/python3.8/dist-packages/sklearn/linear_model/_logistic.py\", line 447, in _check_solver\n",
            "    raise ValueError(\n",
            "ValueError: Solver lbfgs supports only 'l2' or 'none' penalties, got l1 penalty.\n",
            "\n",
            "--------------------------------------------------------------------------------\n",
            "80 fits failed with the following error:\n",
            "Traceback (most recent call last):\n",
            "  File \"/usr/local/lib/python3.8/dist-packages/sklearn/model_selection/_validation.py\", line 680, in _fit_and_score\n",
            "    estimator.fit(X_train, y_train, **fit_params)\n",
            "  File \"/usr/local/lib/python3.8/dist-packages/sklearn/linear_model/_logistic.py\", line 1461, in fit\n",
            "    solver = _check_solver(self.solver, self.penalty, self.dual)\n",
            "  File \"/usr/local/lib/python3.8/dist-packages/sklearn/linear_model/_logistic.py\", line 447, in _check_solver\n",
            "    raise ValueError(\n",
            "ValueError: Solver lbfgs supports only 'l2' or 'none' penalties, got elasticnet penalty.\n",
            "\n",
            "\n",
            "/usr/local/lib/python3.8/dist-packages/sklearn/model_selection/_search.py:969: UserWarning:\n",
            "\n",
            "One or more of the test scores are non-finite: [       nan 0.82033096        nan        nan 0.81750838        nan\n",
            "        nan 0.82033096        nan        nan 0.82377182        nan\n",
            "        nan 0.8497748         nan        nan 0.84348993        nan\n",
            "        nan 0.83930274        nan        nan 0.83930274        nan]\n",
            "\n"
          ]
        },
        {
          "output_type": "execute_result",
          "data": {
            "text/plain": [
              "{'C': 1, 'penalty': 'l2'}"
            ]
          },
          "metadata": {},
          "execution_count": 32
        }
      ],
      "source": [
        "# Penyetelan hyper-parameter menggunakan Pencarian Grid \n",
        "lr_params = {\n",
        "    'penalty': ['l1', 'l2', 'elasticnet'], \n",
        "    'C': [0.0001, 0.001, 0.01, 0.1, 1, 10, 100, 1000], \n",
        "    #'solver' : ['newton-cg', 'lbfgs', 'liblinear', 'sag', 'saga']\n",
        "}\n",
        "lr_cv = GridSearchCV(lr_clf, lr_params, scoring='f1', cv=10, n_jobs=-1)\n",
        "lr_cv.fit(X_train, y_train)\n",
        "\n",
        "# Nilai parameter terbaik untuk mencapai skor F1 tertinggi \n",
        "lr_cv.best_params_"
      ]
    },
    {
      "cell_type": "code",
      "execution_count": 33,
      "id": "ae654115",
      "metadata": {
        "execution": {
          "iopub.execute_input": "2022-11-15T02:12:47.271001Z",
          "iopub.status.busy": "2022-11-15T02:12:47.270157Z",
          "iopub.status.idle": "2022-11-15T02:12:55.251962Z",
          "shell.execute_reply": "2022-11-15T02:12:55.251480Z",
          "shell.execute_reply.started": "2021-11-01T11:33:46.313427Z"
        },
        "papermill": {
          "duration": 8.066174,
          "end_time": "2022-11-15T02:12:55.252087",
          "exception": false,
          "start_time": "2022-11-15T02:12:47.185913",
          "status": "completed"
        },
        "tags": [],
        "colab": {
          "base_uri": "https://localhost:8080/"
        },
        "id": "ae654115",
        "outputId": "52f7ad33-8070-49c0-b74f-f9ae54f4b5cd"
      },
      "outputs": [
        {
          "output_type": "stream",
          "name": "stdout",
          "text": [
            "               precision    recall  f1-score   support\n",
            "\n",
            "not gonna die     0.8373    0.8580    0.8476       162\n",
            "     will die     0.8544    0.8333    0.8438       162\n",
            "\n",
            "     accuracy                         0.8457       324\n",
            "    macro avg     0.8459    0.8457    0.8457       324\n",
            " weighted avg     0.8459    0.8457    0.8457       324\n",
            "\n"
          ]
        }
      ],
      "source": [
        "# Prediksi pada data pelatihan menggunakan prediksi nilai silang\n",
        "lr_train_pred = cross_val_predict(lr_cv, X_train, y_train, cv=10, n_jobs=-1)\n",
        "\n",
        "# Laporan klasifikasi\n",
        "print(classification_report(y_train, lr_train_pred, digits=4, target_names=['not gonna die', 'will die']))"
      ]
    },
    {
      "cell_type": "markdown",
      "id": "73be65dc",
      "metadata": {
        "papermill": {
          "duration": 0.084489,
          "end_time": "2022-11-15T02:23:46.865859",
          "exception": false,
          "start_time": "2022-11-15T02:23:46.781370",
          "status": "completed"
        },
        "tags": [],
        "id": "73be65dc"
      },
      "source": [
        "# Kesimpulan\n",
        "\n",
        "Model yang terbaik untuk melakukan klasifikasi untuk dataset ini adalah KNN.\n",
        "\n"
      ]
    }
  ],
  "metadata": {
    "kernelspec": {
      "display_name": "Python 3",
      "language": "python",
      "name": "python3"
    },
    "language_info": {
      "codemirror_mode": {
        "name": "ipython",
        "version": 3
      },
      "file_extension": ".py",
      "mimetype": "text/x-python",
      "name": "python",
      "nbconvert_exporter": "python",
      "pygments_lexer": "ipython3",
      "version": "3.7.10"
    },
    "papermill": {
      "default_parameters": {},
      "duration": 714.475531,
      "end_time": "2022-11-15T02:23:48.263024",
      "environment_variables": {},
      "exception": null,
      "input_path": "__notebook__.ipynb",
      "output_path": "__notebook__.ipynb",
      "parameters": {},
      "start_time": "2022-11-15T02:11:53.787493",
      "version": "2.3.3"
    },
    "colab": {
      "provenance": [],
      "include_colab_link": true
    }
  },
  "nbformat": 4,
  "nbformat_minor": 5
}